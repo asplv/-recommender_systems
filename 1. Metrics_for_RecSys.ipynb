{
 "cells": [
  {
   "cell_type": "markdown",
   "metadata": {},
   "source": [
    "Выполнила: Анастасия Плавина"
   ]
  },
  {
   "cell_type": "markdown",
   "metadata": {
    "id": "gyYgtrV3o1g-"
   },
   "source": [
    "## Тема: Введение, примеры задач, бизнес- и ML-метрики"
   ]
  },
  {
   "cell_type": "markdown",
   "metadata": {},
   "source": [
    "**1) Приведите еще примеры метрик для оценки рекомендаций/ранжирования (можно взять из интернета, или ваши знания)**\n",
    "- Корреляция Спирмена реального и прогнозируемого рангов рекомендаций\n",
    "- Fraction of Concordance Pairs - метрика того, насколько высока концентрация интересных товаров в начале списка рекомендаций\n",
    "- Discounted cumulative gain at K — модификация cumulative gain at K, учитывающая порядок элементов в списке путем домножения релевантности элемента на вес равный обратному логарифму номера позиции\n",
    "- метрики качества ранжирования на основе каскадной модели PFound и Expected reciprocal rank (ERR)"
   ]
  },
  {
   "cell_type": "code",
   "execution_count": 1,
   "metadata": {
    "id": "MDr2G6YIo1g_"
   },
   "outputs": [],
   "source": [
    "import pandas as pd\n",
    "import numpy as np"
   ]
  },
  {
   "cell_type": "markdown",
   "metadata": {},
   "source": [
    "#### Задание 1"
   ]
  },
  {
   "cell_type": "code",
   "execution_count": 2,
   "metadata": {
    "id": "UdC9moeIo1ho"
   },
   "outputs": [],
   "source": [
    "def hit_rate_at_k(recommended_list, bought_list, k):\n",
    "    \"\"\"calculating hit rate@k\"\"\"\n",
    "    bought_list = np.array(bought_list)\n",
    "    recommended_list = np.array(recommended_list)[:k]\n",
    "    flags = np.isin(bought_list, recommended_list)\n",
    "\n",
    "    return (flags.sum() > 0) * 1\n"
   ]
  },
  {
   "cell_type": "code",
   "execution_count": 3,
   "metadata": {},
   "outputs": [],
   "source": [
    "recommended_list = [143, 156, 1134, 27, 1543, 3345, 533, 11, 43, 521] #id товаров\n",
    "bought_list = [521, 32, 991, 27, 3345]"
   ]
  },
  {
   "cell_type": "code",
   "execution_count": 4,
   "metadata": {
    "id": "cQXLlorio1hs",
    "outputId": "1d1b69db-3909-4fe1-e600-e900847bb26d"
   },
   "outputs": [
    {
     "name": "stdout",
     "output_type": "stream",
     "text": [
      "Hit rate @1: 0\n",
      "Hit rate @3: 0\n",
      "Hit rate @5: 1\n",
      "Hit rate @10: 1\n"
     ]
    }
   ],
   "source": [
    "# посмотрим hit rate при разных k \n",
    "ks = [1, 3, 5, 10]\n",
    "for k in ks:\n",
    "    print(f'Hit rate @{k}: {hit_rate_at_k(recommended_list, bought_list, k=k)}')"
   ]
  },
  {
   "cell_type": "markdown",
   "metadata": {},
   "source": [
    "#### Задание 2"
   ]
  },
  {
   "cell_type": "code",
   "execution_count": 5,
   "metadata": {},
   "outputs": [],
   "source": [
    "recommended_list = [143, 156, 1134, 991, 27, 1543, 3345, 533, 11, 43] #id товаров\n",
    "bought_list = [521, 32, 143, 991]"
   ]
  },
  {
   "cell_type": "code",
   "execution_count": 6,
   "metadata": {
    "id": "bDZRoYivo1h1"
   },
   "outputs": [],
   "source": [
    "def precision_at_k(recommended_list, bought_list, k):\n",
    "    \"\"\"calculating precision@k\"\"\"\n",
    "    bought_list = np.array(bought_list)\n",
    "    recommended_list = np.array(recommended_list)[:k]\n",
    "    flags = np.isin(bought_list, recommended_list)\n",
    "    return flags.sum() / len(recommended_list)\n",
    "\n",
    "def money_precision_at_k_(recommended_list, bought_list, prices_recommended, k=5):\n",
    "    \n",
    "    recommend_list = np.array(recommended_list)[:k]\n",
    "    prices_recommended = np.array(prices_recommended)[:k]\n",
    "    \n",
    "    flags = np.isin(recommend_list, bought_list)\n",
    "    \n",
    "    precision = np.dot(flags, prices_recommended).sum() / prices_recommended.sum()\n",
    "    \n",
    "    return precision"
   ]
  },
  {
   "cell_type": "code",
   "execution_count": 7,
   "metadata": {
    "id": "35CJV2C7o1iB",
    "outputId": "f0a6558e-af43-400c-d42c-c65197d3336d"
   },
   "outputs": [
    {
     "name": "stdout",
     "output_type": "stream",
     "text": [
      "Precision @1: 1.00\n",
      "Precision @3: 0.33\n",
      "Precision @5: 0.40\n",
      "Precision @10: 0.20\n"
     ]
    }
   ],
   "source": [
    "# посмотрим precision при разных k \n",
    "ks = [1, 3, 5, 10]\n",
    "for k in ks:\n",
    "    print(f'Precision @{k}: {precision_at_k(recommended_list, bought_list, k=k):.2f}')"
   ]
  },
  {
   "cell_type": "markdown",
   "metadata": {},
   "source": [
    "#### Задание 3"
   ]
  },
  {
   "cell_type": "code",
   "execution_count": 8,
   "metadata": {},
   "outputs": [],
   "source": [
    "recommended_list = [143, 156, 1134, 991, 27, 1543, 3345, 533, 32, 43] #id товаров\n",
    "bought_list = [521, 32, 143, 991]\n",
    "\n",
    "prices_recommended = [item*2.5 for item in recommended_list]\n",
    "prices_bought = [item*2.5 for item in bought_list]"
   ]
  },
  {
   "cell_type": "code",
   "execution_count": 9,
   "metadata": {
    "id": "g2sl_HTfo1iS"
   },
   "outputs": [],
   "source": [
    "def recall(recommended_list, bought_list):\n",
    "    \n",
    "    bought_list = np.array(bought_list)\n",
    "    recommended_list = np.array(recommended_list)\n",
    "    flags = np.isin(bought_list, recommended_list)\n",
    "    return flags.sum() / len(bought_list)\n",
    "    \n",
    "\n",
    "def recall_at_k(recommended_list, bought_list, k):\n",
    "    bought_list = np.array(bought_list)\n",
    "    recommended_list = np.array(recommended_list)[:k]\n",
    "    flags = np.isin(bought_list, recommended_list)\n",
    "    return flags.sum() / len(bought_list)\n",
    "    \n",
    "\n",
    "def money_recall_at_k(recommended_list, bought_list, prices_recommended, prices_bought, k):\n",
    "\n",
    "    recommend_list = np.array(recommended_list)[:k]\n",
    "    prices_recommended = np.array(prices_recommended)[:k]\n",
    "\n",
    "    flags = np.isin(bought_list, recommend_list) # что купили\n",
    "    print('Реальная прибыль:', np.dot(flags, prices_bought).sum())\n",
    "    print('Потенциальная прибыль:', prices_recommended.sum()) \n",
    "    \n",
    "    # сколько купили / сколько могли купить, если бы все товары были релеванныт\n",
    "    money_recall = np.dot(flags, prices_bought).sum() / prices_recommended.sum() \n",
    "    return money_recall"
   ]
  },
  {
   "cell_type": "code",
   "execution_count": 10,
   "metadata": {},
   "outputs": [
    {
     "name": "stdout",
     "output_type": "stream",
     "text": [
      "-------------------------------------------\n",
      "Recall @1: 0.25\n",
      "Реальная прибыль: 357.5\n",
      "Потенциальная прибыль: 357.5\n",
      "Money recall @1:1.00\n",
      "-------------------------------------------\n",
      "Recall @3: 0.25\n",
      "Реальная прибыль: 357.5\n",
      "Потенциальная прибыль: 3582.5\n",
      "Money recall @3:0.10\n",
      "-------------------------------------------\n",
      "Recall @5: 0.50\n",
      "Реальная прибыль: 2835.0\n",
      "Потенциальная прибыль: 6127.5\n",
      "Money recall @5:0.46\n",
      "-------------------------------------------\n",
      "Recall @10: 0.75\n",
      "Реальная прибыль: 2915.0\n",
      "Потенциальная прибыль: 19867.5\n",
      "Money recall @10:0.15\n"
     ]
    }
   ],
   "source": [
    "# посмотрим precision при разных k \n",
    "ks = [1, 3, 5, 10]\n",
    "for k in ks:\n",
    "    print('-------------------------------------------')\n",
    "    print(f'Recall @{k}: {recall_at_k(recommended_list, bought_list, k=k):.2f}')\n",
    "    print(f'Money recall @{k}:{money_recall_at_k(recommended_list, bought_list,prices_recommended, prices_bought, k=k):.2f}')\n",
    "    \n",
    "    \n",
    "    "
   ]
  },
  {
   "cell_type": "markdown",
   "metadata": {},
   "source": [
    "#### Задание 4"
   ]
  },
  {
   "cell_type": "code",
   "execution_count": 11,
   "metadata": {},
   "outputs": [],
   "source": [
    "# теперь список из 3 пользователей\n",
    "recommended_list_3_users = [[143, 156, 1134, 991, 27, 1543, 3345, 533, 11, 43], \n",
    "                    [1134, 533, 14, 4, 15, 1543, 1, 99, 27, 3345],\n",
    "                    [991, 3345, 27, 533, 43, 143, 1543, 156, 1134, 11]\n",
    "                           ]\n",
    "\n",
    "bought_list_3_users = [[521, 32, 143],  # юзер 1\n",
    "                       [143, 156, 991, 43, 11], # юзер 2\n",
    "                       [1, 2]] # юзер 3\n"
   ]
  },
  {
   "cell_type": "code",
   "execution_count": 12,
   "metadata": {
    "id": "heZq-3_Vo1iq"
   },
   "outputs": [],
   "source": [
    "def map_k(recommended_list, bought_list, k=5):\n",
    "    U = len(bought_list_3_users) # кол-во юзеров\n",
    "    mapk = 0\n",
    "\n",
    "    for rec_list, bought_list in zip(recommended_list, bought_list_3_users):\n",
    "        bought_list = np.array(bought_list)\n",
    "        rec_list = np.array(rec_list)[:k]\n",
    "        # индексы рекомендованного релевантного товара\n",
    "        relevant_indexes = np.nonzero(np.isin(rec_list, bought_list))[0]\n",
    "        \n",
    "        # precision_at_k для каждого юзера\n",
    "        sum_ = sum([precision_at_k(rec_list, bought_list, k=index_relevant+1) for index_relevant in relevant_indexes])\n",
    "        \n",
    "        if len(relevant_indexes) == 0:\n",
    "            ap_k = 0\n",
    "        else:\n",
    "            ap_k = sum_/len(relevant_indexes)\n",
    "        mapk += ap_k\n",
    "\n",
    "    return round(mapk/U, 2)\n"
   ]
  },
  {
   "cell_type": "code",
   "execution_count": 13,
   "metadata": {},
   "outputs": [
    {
     "data": {
      "text/plain": [
       "0.33"
      ]
     },
     "execution_count": 13,
     "metadata": {},
     "output_type": "execute_result"
    }
   ],
   "source": [
    " map_k(recommended_list_3_users, bought_list_3_users, k=5)"
   ]
  },
  {
   "cell_type": "markdown",
   "metadata": {},
   "source": [
    "#### Задание 5"
   ]
  },
  {
   "cell_type": "code",
   "execution_count": 14,
   "metadata": {},
   "outputs": [],
   "source": [
    "# теперь список из 3 пользователей\n",
    "recommended_list_3_users = [[143, 156, 1134, 991, 27, 1543, 3345, 533, 11, 43], \n",
    "                    [1134, 533, 14, 4, 15, 1543, 1, 99, 27, 3345],\n",
    "                    [991, 3345, 27, 533, 43, 143, 1543, 156, 1134, 11]\n",
    "                           ]\n",
    "\n",
    "bought_list_3_users = [[521, 32, 143],  # юзер 1\n",
    "                       [143, 156, 991, 43, 11], # юзер 2\n",
    "                       [1, 2]] # юзер 3\n"
   ]
  },
  {
   "cell_type": "code",
   "execution_count": 15,
   "metadata": {},
   "outputs": [],
   "source": [
    "def reciprocal_rank(recommended_list, bought_list, k=5):\n",
    "    \"\"\"calculating MRR - finding reciprocal rank \n",
    "            through the rank of first relevant recommendation for each user and taking its mean \"\"\"\n",
    "    n = len(bought_list_3_users) # кол-во юзеров\n",
    "    rr_sum = 0\n",
    "\n",
    "    for rec_list, bought_list in zip(recommended_list, bought_list_3_users):\n",
    "        bought_list = np.array(bought_list)\n",
    "        rec_list = np.array(rec_list)[:k]\n",
    "        # индекс первого релевантного товара\n",
    "        relevant_indexes = np.nonzero(np.isin(rec_list, bought_list))[0]\n",
    "        \n",
    "        # находим первое релевантное предсказание и вычисляем reciprocal rank для каждого юзера\n",
    "        k_rank = relevant_indexes[True][0]\n",
    "        if k_rank.size == 0:\n",
    "            rr = 0\n",
    "        else:\n",
    "            rr = 1/(k_rank[0]+1)\n",
    "            \n",
    "        rr_sum +=rr\n",
    "\n",
    "    return round(rr_sum/n, 2)"
   ]
  },
  {
   "cell_type": "code",
   "execution_count": 16,
   "metadata": {},
   "outputs": [
    {
     "data": {
      "text/plain": [
       "0.33"
      ]
     },
     "execution_count": 16,
     "metadata": {},
     "output_type": "execute_result"
    }
   ],
   "source": [
    "reciprocal_rank(recommended_list_3_users, bought_list_3_users, k=5)"
   ]
  },
  {
   "cell_type": "markdown",
   "metadata": {
    "id": "ZM-4TlgWo1i-"
   },
   "source": [
    "\n",
    "\n"
   ]
  }
 ],
 "metadata": {
  "kernelspec": {
   "display_name": "Python 3",
   "language": "python",
   "name": "python3"
  },
  "language_info": {
   "codemirror_mode": {
    "name": "ipython",
    "version": 3
   },
   "file_extension": ".py",
   "mimetype": "text/x-python",
   "name": "python",
   "nbconvert_exporter": "python",
   "pygments_lexer": "ipython3",
   "version": "3.8.1"
  }
 },
 "nbformat": 4,
 "nbformat_minor": 4
}
