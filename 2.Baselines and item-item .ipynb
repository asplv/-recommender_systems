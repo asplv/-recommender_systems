{
 "cells": [
  {
   "cell_type": "markdown",
   "metadata": {},
   "source": [
    "Выполнила: Анастасяи Плавина"
   ]
  },
  {
   "cell_type": "markdown",
   "metadata": {},
   "source": [
    "## Тема 2. Бейзлайны и детерминированные алгоритмы item-item"
   ]
  },
  {
   "cell_type": "code",
   "execution_count": 1,
   "metadata": {
    "colab": {},
    "colab_type": "code",
    "id": "rgIzW-DSC8Yi"
   },
   "outputs": [],
   "source": [
    "import pandas as pd\n",
    "import numpy as np\n",
    "import matplotlib.pyplot as plt\n",
    "%matplotlib inline\n",
    "import csv\n",
    "\n",
    "# Для работы с матрицами\n",
    "from scipy.sparse import csr_matrix, coo_matrix\n",
    "\n",
    "# Детерминированные алгоритмы\n",
    "from implicit.nearest_neighbours import ItemItemRecommender, CosineRecommender, TFIDFRecommender, BM25Recommender\n",
    "\n",
    "# Метрики\n",
    "from implicit.evaluation import train_test_split\n",
    "from implicit.evaluation import precision_at_k, mean_average_precision_at_k, AUC_at_k, ndcg_at_k"
   ]
  },
  {
   "cell_type": "code",
   "execution_count": 2,
   "metadata": {
    "colab": {},
    "colab_type": "code",
    "id": "9qFkcgyrC8Yt",
    "outputId": "24a33bf1-942a-4b18-c54a-a7500c8f8712"
   },
   "outputs": [
    {
     "data": {
      "text/html": [
       "<div>\n",
       "<style scoped>\n",
       "    .dataframe tbody tr th:only-of-type {\n",
       "        vertical-align: middle;\n",
       "    }\n",
       "\n",
       "    .dataframe tbody tr th {\n",
       "        vertical-align: top;\n",
       "    }\n",
       "\n",
       "    .dataframe thead th {\n",
       "        text-align: right;\n",
       "    }\n",
       "</style>\n",
       "<table border=\"1\" class=\"dataframe\">\n",
       "  <thead>\n",
       "    <tr style=\"text-align: right;\">\n",
       "      <th></th>\n",
       "      <th>user_id</th>\n",
       "      <th>basket_id</th>\n",
       "      <th>day</th>\n",
       "      <th>item_id</th>\n",
       "      <th>quantity</th>\n",
       "      <th>sales_value</th>\n",
       "      <th>store_id</th>\n",
       "      <th>retail_disc</th>\n",
       "      <th>trans_time</th>\n",
       "      <th>week_no</th>\n",
       "      <th>coupon_disc</th>\n",
       "      <th>coupon_match_disc</th>\n",
       "    </tr>\n",
       "  </thead>\n",
       "  <tbody>\n",
       "    <tr>\n",
       "      <th>0</th>\n",
       "      <td>2375</td>\n",
       "      <td>26984851472</td>\n",
       "      <td>1</td>\n",
       "      <td>1004906</td>\n",
       "      <td>1</td>\n",
       "      <td>1.39</td>\n",
       "      <td>364</td>\n",
       "      <td>-0.6</td>\n",
       "      <td>1631</td>\n",
       "      <td>1</td>\n",
       "      <td>0.0</td>\n",
       "      <td>0.0</td>\n",
       "    </tr>\n",
       "    <tr>\n",
       "      <th>1</th>\n",
       "      <td>2375</td>\n",
       "      <td>26984851472</td>\n",
       "      <td>1</td>\n",
       "      <td>1033142</td>\n",
       "      <td>1</td>\n",
       "      <td>0.82</td>\n",
       "      <td>364</td>\n",
       "      <td>0.0</td>\n",
       "      <td>1631</td>\n",
       "      <td>1</td>\n",
       "      <td>0.0</td>\n",
       "      <td>0.0</td>\n",
       "    </tr>\n",
       "  </tbody>\n",
       "</table>\n",
       "</div>"
      ],
      "text/plain": [
       "   user_id    basket_id  day  item_id  quantity  sales_value  store_id  \\\n",
       "0     2375  26984851472    1  1004906         1         1.39       364   \n",
       "1     2375  26984851472    1  1033142         1         0.82       364   \n",
       "\n",
       "   retail_disc  trans_time  week_no  coupon_disc  coupon_match_disc  \n",
       "0         -0.6        1631        1          0.0                0.0  \n",
       "1          0.0        1631        1          0.0                0.0  "
      ]
     },
     "execution_count": 2,
     "metadata": {},
     "output_type": "execute_result"
    }
   ],
   "source": [
    "data = pd.read_csv('retail_train.csv')\n",
    "data.head(2)"
   ]
  },
  {
   "cell_type": "code",
   "execution_count": 3,
   "metadata": {
    "colab": {},
    "colab_type": "code",
    "id": "epcBZlgJC8Y0"
   },
   "outputs": [],
   "source": [
    "test_size_weeks = 3\n",
    "\n",
    "data_train = data[data['week_no'] < data['week_no'].max() - test_size_weeks]\n",
    "data_test = data[data['week_no'] >= data['week_no'].max() - test_size_weeks]"
   ]
  },
  {
   "cell_type": "markdown",
   "metadata": {
    "colab_type": "text",
    "id": "zlUUzLFeC8Y4"
   },
   "source": [
    "### Задание 1. Weighted Random Recommendation\n",
    "\n",
    "Напишите код для случайных рекоммендаций, в которых вероятность рекомендовать товар прямо пропорциональна логарифму продаж\n",
    "- Можно сэмплировать товары случайно, но пропорционально какому-либо весу\n",
    "- Например, прямопропорционально популярности. Вес = log(sales_sum товара)"
   ]
  },
  {
   "cell_type": "code",
   "execution_count": 4,
   "metadata": {},
   "outputs": [
    {
     "data": {
      "text/html": [
       "<div>\n",
       "<style scoped>\n",
       "    .dataframe tbody tr th:only-of-type {\n",
       "        vertical-align: middle;\n",
       "    }\n",
       "\n",
       "    .dataframe tbody tr th {\n",
       "        vertical-align: top;\n",
       "    }\n",
       "\n",
       "    .dataframe thead th {\n",
       "        text-align: right;\n",
       "    }\n",
       "</style>\n",
       "<table border=\"1\" class=\"dataframe\">\n",
       "  <thead>\n",
       "    <tr style=\"text-align: right;\">\n",
       "      <th></th>\n",
       "      <th>user_id</th>\n",
       "      <th>actual</th>\n",
       "      <th>random_recommendation</th>\n",
       "      <th>popular_recommendation</th>\n",
       "      <th>itemitem</th>\n",
       "      <th>cosine</th>\n",
       "      <th>tfidf</th>\n",
       "      <th>own_purchases</th>\n",
       "    </tr>\n",
       "  </thead>\n",
       "  <tbody>\n",
       "    <tr>\n",
       "      <th>0</th>\n",
       "      <td>1</td>\n",
       "      <td>[  821867   834484   856942   865456   889248 ...</td>\n",
       "      <td>[855282, 12754926, 10255555, 10459882, 999360]</td>\n",
       "      <td>[6534178, 6533889, 1029743, 6534166, 1082185]</td>\n",
       "      <td>[999999, 1082185, 981760, 1127831, 995242]</td>\n",
       "      <td>[1082185, 999999, 981760, 1127831, 1098066]</td>\n",
       "      <td>[1082185, 981760, 1127831, 999999, 1098066]</td>\n",
       "      <td>[1082185, 1029743, 995785, 1004906, 1081177]</td>\n",
       "    </tr>\n",
       "    <tr>\n",
       "      <th>1</th>\n",
       "      <td>3</td>\n",
       "      <td>[  835476   851057   872021   878302   879948 ...</td>\n",
       "      <td>[8352923, 10254454, 126637, 10282033, 1124719]</td>\n",
       "      <td>[6534178, 6533889, 1029743, 6534166, 1082185]</td>\n",
       "      <td>[999999, 1082185, 981760, 1098066, 995242]</td>\n",
       "      <td>[1082185, 1098066, 981760, 999999, 826249]</td>\n",
       "      <td>[1082185, 981760, 1098066, 826249, 999999]</td>\n",
       "      <td>[1082185, 1098066, 6534178, 1127831, 1068719]</td>\n",
       "    </tr>\n",
       "    <tr>\n",
       "      <th>2</th>\n",
       "      <td>6</td>\n",
       "      <td>[  920308   926804   946489  1006718  1017061 ...</td>\n",
       "      <td>[1071342, 9932329, 985893, 926549, 7186250]</td>\n",
       "      <td>[6534178, 6533889, 1029743, 6534166, 1082185]</td>\n",
       "      <td>[999999, 1082185, 981760, 1127831, 995242]</td>\n",
       "      <td>[1082185, 999999, 981760, 1127831, 1098066]</td>\n",
       "      <td>[1082185, 981760, 1127831, 999999, 878996]</td>\n",
       "      <td>[1082185, 1029743, 6534178, 1127831, 995785]</td>\n",
       "    </tr>\n",
       "    <tr>\n",
       "      <th>3</th>\n",
       "      <td>7</td>\n",
       "      <td>[  840386   889774   898068   909714   929067 ...</td>\n",
       "      <td>[8181185, 900491, 921622, 1317910, 944599]</td>\n",
       "      <td>[6534178, 6533889, 1029743, 6534166, 1082185]</td>\n",
       "      <td>[999999, 1082185, 981760, 1127831, 995242]</td>\n",
       "      <td>[1082185, 981760, 999999, 1127831, 961554]</td>\n",
       "      <td>[1082185, 981760, 1127831, 999999, 961554]</td>\n",
       "      <td>[1082185, 1029743, 1127831, 995785, 1044078]</td>\n",
       "    </tr>\n",
       "    <tr>\n",
       "      <th>4</th>\n",
       "      <td>8</td>\n",
       "      <td>[  835098   872137   910439   924610   992977 ...</td>\n",
       "      <td>[1034655, 928892, 950441, 925445, 991951]</td>\n",
       "      <td>[6534178, 6533889, 1029743, 6534166, 1082185]</td>\n",
       "      <td>[999999, 1082185, 981760, 1127831, 1098066]</td>\n",
       "      <td>[1082185, 981760, 999999, 1098066, 826249]</td>\n",
       "      <td>[1082185, 981760, 999999, 1098066, 826249]</td>\n",
       "      <td>[1082185, 1029743, 1098066, 6534178, 1127831]</td>\n",
       "    </tr>\n",
       "    <tr>\n",
       "      <th>...</th>\n",
       "      <td>...</td>\n",
       "      <td>...</td>\n",
       "      <td>...</td>\n",
       "      <td>...</td>\n",
       "      <td>...</td>\n",
       "      <td>...</td>\n",
       "      <td>...</td>\n",
       "      <td>...</td>\n",
       "    </tr>\n",
       "    <tr>\n",
       "      <th>2037</th>\n",
       "      <td>2496</td>\n",
       "      <td>[6534178]</td>\n",
       "      <td>[1406777, 16769463, 964450, 10457180, 10255413]</td>\n",
       "      <td>[6534178, 6533889, 1029743, 6534166, 1082185]</td>\n",
       "      <td>[999999, 1082185, 981760, 1098066, 995242]</td>\n",
       "      <td>[1082185, 981760, 999999, 1098066, 826249]</td>\n",
       "      <td>[1082185, 981760, 1098066, 999999, 826249]</td>\n",
       "      <td>[1082185, 1098066, 6534178, 995785, 1068719]</td>\n",
       "    </tr>\n",
       "    <tr>\n",
       "      <th>2038</th>\n",
       "      <td>2497</td>\n",
       "      <td>[ 1016709  9835695  1132298 16809501   845294 ...</td>\n",
       "      <td>[1101560, 15660208, 1079365, 1259979, 2456053]</td>\n",
       "      <td>[6534178, 6533889, 1029743, 6534166, 1082185]</td>\n",
       "      <td>[999999, 1082185, 981760, 1098066, 1127831]</td>\n",
       "      <td>[1082185, 981760, 999999, 1098066, 826249]</td>\n",
       "      <td>[1082185, 981760, 1098066, 999999, 826249]</td>\n",
       "      <td>[1082185, 1029743, 1098066, 6534178, 1127831]</td>\n",
       "    </tr>\n",
       "    <tr>\n",
       "      <th>2039</th>\n",
       "      <td>2498</td>\n",
       "      <td>[15716530   834484   901776   914190   958382 ...</td>\n",
       "      <td>[834572, 1036057, 1094203, 5564670, 87243]</td>\n",
       "      <td>[6534178, 6533889, 1029743, 6534166, 1082185]</td>\n",
       "      <td>[999999, 1082185, 981760, 1098066, 1127831]</td>\n",
       "      <td>[1082185, 999999, 981760, 1098066, 826249]</td>\n",
       "      <td>[1082185, 981760, 999999, 1098066, 826249]</td>\n",
       "      <td>[1082185, 1029743, 1068719, 1106523, 5569230]</td>\n",
       "    </tr>\n",
       "    <tr>\n",
       "      <th>2040</th>\n",
       "      <td>2499</td>\n",
       "      <td>[  867188   877580   902396   914190   951590 ...</td>\n",
       "      <td>[2400179, 330850, 1079099, 7168859, 551900]</td>\n",
       "      <td>[6534178, 6533889, 1029743, 6534166, 1082185]</td>\n",
       "      <td>[999999, 1082185, 981760, 1098066, 995242]</td>\n",
       "      <td>[1082185, 981760, 999999, 1098066, 826249]</td>\n",
       "      <td>[1082185, 981760, 1098066, 999999, 826249]</td>\n",
       "      <td>[1082185, 1098066, 6534178, 1004906, 1081177]</td>\n",
       "    </tr>\n",
       "    <tr>\n",
       "      <th>2041</th>\n",
       "      <td>2500</td>\n",
       "      <td>[  852182   856345   923746   948670  1018007 ...</td>\n",
       "      <td>[86101, 962321, 389229, 1654134, 12158128]</td>\n",
       "      <td>[6534178, 6533889, 1029743, 6534166, 1082185]</td>\n",
       "      <td>[999999, 1082185, 981760, 1127831, 995242]</td>\n",
       "      <td>[1082185, 999999, 981760, 1127831, 1098066]</td>\n",
       "      <td>[1082185, 981760, 999999, 1127831, 961554]</td>\n",
       "      <td>[1082185, 1029743, 1098066, 6534178, 1127831]</td>\n",
       "    </tr>\n",
       "  </tbody>\n",
       "</table>\n",
       "<p>2042 rows × 8 columns</p>\n",
       "</div>"
      ],
      "text/plain": [
       "      user_id                                             actual  \\\n",
       "0           1  [  821867   834484   856942   865456   889248 ...   \n",
       "1           3  [  835476   851057   872021   878302   879948 ...   \n",
       "2           6  [  920308   926804   946489  1006718  1017061 ...   \n",
       "3           7  [  840386   889774   898068   909714   929067 ...   \n",
       "4           8  [  835098   872137   910439   924610   992977 ...   \n",
       "...       ...                                                ...   \n",
       "2037     2496                                          [6534178]   \n",
       "2038     2497  [ 1016709  9835695  1132298 16809501   845294 ...   \n",
       "2039     2498  [15716530   834484   901776   914190   958382 ...   \n",
       "2040     2499  [  867188   877580   902396   914190   951590 ...   \n",
       "2041     2500  [  852182   856345   923746   948670  1018007 ...   \n",
       "\n",
       "                                random_recommendation  \\\n",
       "0      [855282, 12754926, 10255555, 10459882, 999360]   \n",
       "1      [8352923, 10254454, 126637, 10282033, 1124719]   \n",
       "2         [1071342, 9932329, 985893, 926549, 7186250]   \n",
       "3          [8181185, 900491, 921622, 1317910, 944599]   \n",
       "4           [1034655, 928892, 950441, 925445, 991951]   \n",
       "...                                               ...   \n",
       "2037  [1406777, 16769463, 964450, 10457180, 10255413]   \n",
       "2038   [1101560, 15660208, 1079365, 1259979, 2456053]   \n",
       "2039       [834572, 1036057, 1094203, 5564670, 87243]   \n",
       "2040      [2400179, 330850, 1079099, 7168859, 551900]   \n",
       "2041       [86101, 962321, 389229, 1654134, 12158128]   \n",
       "\n",
       "                             popular_recommendation  \\\n",
       "0     [6534178, 6533889, 1029743, 6534166, 1082185]   \n",
       "1     [6534178, 6533889, 1029743, 6534166, 1082185]   \n",
       "2     [6534178, 6533889, 1029743, 6534166, 1082185]   \n",
       "3     [6534178, 6533889, 1029743, 6534166, 1082185]   \n",
       "4     [6534178, 6533889, 1029743, 6534166, 1082185]   \n",
       "...                                             ...   \n",
       "2037  [6534178, 6533889, 1029743, 6534166, 1082185]   \n",
       "2038  [6534178, 6533889, 1029743, 6534166, 1082185]   \n",
       "2039  [6534178, 6533889, 1029743, 6534166, 1082185]   \n",
       "2040  [6534178, 6533889, 1029743, 6534166, 1082185]   \n",
       "2041  [6534178, 6533889, 1029743, 6534166, 1082185]   \n",
       "\n",
       "                                         itemitem  \\\n",
       "0      [999999, 1082185, 981760, 1127831, 995242]   \n",
       "1      [999999, 1082185, 981760, 1098066, 995242]   \n",
       "2      [999999, 1082185, 981760, 1127831, 995242]   \n",
       "3      [999999, 1082185, 981760, 1127831, 995242]   \n",
       "4     [999999, 1082185, 981760, 1127831, 1098066]   \n",
       "...                                           ...   \n",
       "2037   [999999, 1082185, 981760, 1098066, 995242]   \n",
       "2038  [999999, 1082185, 981760, 1098066, 1127831]   \n",
       "2039  [999999, 1082185, 981760, 1098066, 1127831]   \n",
       "2040   [999999, 1082185, 981760, 1098066, 995242]   \n",
       "2041   [999999, 1082185, 981760, 1127831, 995242]   \n",
       "\n",
       "                                           cosine  \\\n",
       "0     [1082185, 999999, 981760, 1127831, 1098066]   \n",
       "1      [1082185, 1098066, 981760, 999999, 826249]   \n",
       "2     [1082185, 999999, 981760, 1127831, 1098066]   \n",
       "3      [1082185, 981760, 999999, 1127831, 961554]   \n",
       "4      [1082185, 981760, 999999, 1098066, 826249]   \n",
       "...                                           ...   \n",
       "2037   [1082185, 981760, 999999, 1098066, 826249]   \n",
       "2038   [1082185, 981760, 999999, 1098066, 826249]   \n",
       "2039   [1082185, 999999, 981760, 1098066, 826249]   \n",
       "2040   [1082185, 981760, 999999, 1098066, 826249]   \n",
       "2041  [1082185, 999999, 981760, 1127831, 1098066]   \n",
       "\n",
       "                                            tfidf  \\\n",
       "0     [1082185, 981760, 1127831, 999999, 1098066]   \n",
       "1      [1082185, 981760, 1098066, 826249, 999999]   \n",
       "2      [1082185, 981760, 1127831, 999999, 878996]   \n",
       "3      [1082185, 981760, 1127831, 999999, 961554]   \n",
       "4      [1082185, 981760, 999999, 1098066, 826249]   \n",
       "...                                           ...   \n",
       "2037   [1082185, 981760, 1098066, 999999, 826249]   \n",
       "2038   [1082185, 981760, 1098066, 999999, 826249]   \n",
       "2039   [1082185, 981760, 999999, 1098066, 826249]   \n",
       "2040   [1082185, 981760, 1098066, 999999, 826249]   \n",
       "2041   [1082185, 981760, 999999, 1127831, 961554]   \n",
       "\n",
       "                                      own_purchases  \n",
       "0      [1082185, 1029743, 995785, 1004906, 1081177]  \n",
       "1     [1082185, 1098066, 6534178, 1127831, 1068719]  \n",
       "2      [1082185, 1029743, 6534178, 1127831, 995785]  \n",
       "3      [1082185, 1029743, 1127831, 995785, 1044078]  \n",
       "4     [1082185, 1029743, 1098066, 6534178, 1127831]  \n",
       "...                                             ...  \n",
       "2037   [1082185, 1098066, 6534178, 995785, 1068719]  \n",
       "2038  [1082185, 1029743, 1098066, 6534178, 1127831]  \n",
       "2039  [1082185, 1029743, 1068719, 1106523, 5569230]  \n",
       "2040  [1082185, 1098066, 6534178, 1004906, 1081177]  \n",
       "2041  [1082185, 1029743, 1098066, 6534178, 1127831]  \n",
       "\n",
       "[2042 rows x 8 columns]"
      ]
     },
     "execution_count": 4,
     "metadata": {},
     "output_type": "execute_result"
    }
   ],
   "source": [
    "result = pd.read_csv('predictions_basic.csv')\n",
    "result"
   ]
  },
  {
   "cell_type": "code",
   "execution_count": 5,
   "metadata": {},
   "outputs": [
    {
     "data": {
      "text/html": [
       "<div>\n",
       "<style scoped>\n",
       "    .dataframe tbody tr th:only-of-type {\n",
       "        vertical-align: middle;\n",
       "    }\n",
       "\n",
       "    .dataframe tbody tr th {\n",
       "        vertical-align: top;\n",
       "    }\n",
       "\n",
       "    .dataframe thead th {\n",
       "        text-align: right;\n",
       "    }\n",
       "</style>\n",
       "<table border=\"1\" class=\"dataframe\">\n",
       "  <thead>\n",
       "    <tr style=\"text-align: right;\">\n",
       "      <th></th>\n",
       "      <th>user_id</th>\n",
       "      <th>actual</th>\n",
       "      <th>random_recommendation</th>\n",
       "      <th>popular_recommendation</th>\n",
       "      <th>itemitem</th>\n",
       "      <th>cosine</th>\n",
       "      <th>tfidf</th>\n",
       "      <th>own_purchases</th>\n",
       "    </tr>\n",
       "  </thead>\n",
       "  <tbody>\n",
       "    <tr>\n",
       "      <th>0</th>\n",
       "      <td>1</td>\n",
       "      <td>[821867, 834484, 856942, 865456, 889248, 90795...</td>\n",
       "      <td>[855282, 12754926, 10255555, 10459882, 999360]</td>\n",
       "      <td>[6534178, 6533889, 1029743, 6534166, 1082185]</td>\n",
       "      <td>[999999, 1082185, 981760, 1127831, 995242]</td>\n",
       "      <td>[1082185, 999999, 981760, 1127831, 1098066]</td>\n",
       "      <td>[1082185, 981760, 1127831, 999999, 1098066]</td>\n",
       "      <td>[1082185, 1029743, 995785, 1004906, 1081177]</td>\n",
       "    </tr>\n",
       "    <tr>\n",
       "      <th>1</th>\n",
       "      <td>3</td>\n",
       "      <td>[835476, 851057, 872021, 878302, 879948, 90963...</td>\n",
       "      <td>[8352923, 10254454, 126637, 10282033, 1124719]</td>\n",
       "      <td>[6534178, 6533889, 1029743, 6534166, 1082185]</td>\n",
       "      <td>[999999, 1082185, 981760, 1098066, 995242]</td>\n",
       "      <td>[1082185, 1098066, 981760, 999999, 826249]</td>\n",
       "      <td>[1082185, 981760, 1098066, 826249, 999999]</td>\n",
       "      <td>[1082185, 1098066, 6534178, 1127831, 1068719]</td>\n",
       "    </tr>\n",
       "  </tbody>\n",
       "</table>\n",
       "</div>"
      ],
      "text/plain": [
       "   user_id                                             actual  \\\n",
       "0        1  [821867, 834484, 856942, 865456, 889248, 90795...   \n",
       "1        3  [835476, 851057, 872021, 878302, 879948, 90963...   \n",
       "\n",
       "                            random_recommendation  \\\n",
       "0  [855282, 12754926, 10255555, 10459882, 999360]   \n",
       "1  [8352923, 10254454, 126637, 10282033, 1124719]   \n",
       "\n",
       "                          popular_recommendation  \\\n",
       "0  [6534178, 6533889, 1029743, 6534166, 1082185]   \n",
       "1  [6534178, 6533889, 1029743, 6534166, 1082185]   \n",
       "\n",
       "                                     itemitem  \\\n",
       "0  [999999, 1082185, 981760, 1127831, 995242]   \n",
       "1  [999999, 1082185, 981760, 1098066, 995242]   \n",
       "\n",
       "                                        cosine  \\\n",
       "0  [1082185, 999999, 981760, 1127831, 1098066]   \n",
       "1   [1082185, 1098066, 981760, 999999, 826249]   \n",
       "\n",
       "                                         tfidf  \\\n",
       "0  [1082185, 981760, 1127831, 999999, 1098066]   \n",
       "1   [1082185, 981760, 1098066, 826249, 999999]   \n",
       "\n",
       "                                   own_purchases  \n",
       "0   [1082185, 1029743, 995785, 1004906, 1081177]  \n",
       "1  [1082185, 1098066, 6534178, 1127831, 1068719]  "
      ]
     },
     "execution_count": 5,
     "metadata": {},
     "output_type": "execute_result"
    }
   ],
   "source": [
    "def from_str_to_array(row):\n",
    "    \"\"\"converting array strings to lists\n",
    "    \"\"\"\n",
    "    row['actual'] = [int(x) for x in row['actual'][1:-1].split()]\n",
    "    for col in result.columns[2:]:\n",
    "\n",
    "        if row[col] != '[]':\n",
    "            row[col] = [int(x) for x in row[col][1:-1].split(', ')]\n",
    "        else:\n",
    "            row[col] = []\n",
    "    return row\n",
    "\n",
    "result = result.apply(from_str_to_array, axis=1)\n",
    "result.head(2)"
   ]
  },
  {
   "cell_type": "code",
   "execution_count": 6,
   "metadata": {},
   "outputs": [
    {
     "data": {
      "text/html": [
       "<div>\n",
       "<style scoped>\n",
       "    .dataframe tbody tr th:only-of-type {\n",
       "        vertical-align: middle;\n",
       "    }\n",
       "\n",
       "    .dataframe tbody tr th {\n",
       "        vertical-align: top;\n",
       "    }\n",
       "\n",
       "    .dataframe thead th {\n",
       "        text-align: right;\n",
       "    }\n",
       "</style>\n",
       "<table border=\"1\" class=\"dataframe\">\n",
       "  <thead>\n",
       "    <tr style=\"text-align: right;\">\n",
       "      <th></th>\n",
       "      <th>item_id</th>\n",
       "      <th>weight</th>\n",
       "    </tr>\n",
       "  </thead>\n",
       "  <tbody>\n",
       "    <tr>\n",
       "      <th>0</th>\n",
       "      <td>25671</td>\n",
       "      <td>2.617171e-08</td>\n",
       "    </tr>\n",
       "    <tr>\n",
       "      <th>1</th>\n",
       "      <td>26081</td>\n",
       "      <td>4.361952e-09</td>\n",
       "    </tr>\n",
       "    <tr>\n",
       "      <th>2</th>\n",
       "      <td>26093</td>\n",
       "      <td>4.361952e-09</td>\n",
       "    </tr>\n",
       "    <tr>\n",
       "      <th>3</th>\n",
       "      <td>26190</td>\n",
       "      <td>4.361952e-09</td>\n",
       "    </tr>\n",
       "    <tr>\n",
       "      <th>4</th>\n",
       "      <td>26355</td>\n",
       "      <td>8.723905e-09</td>\n",
       "    </tr>\n",
       "    <tr>\n",
       "      <th>...</th>\n",
       "      <td>...</td>\n",
       "      <td>...</td>\n",
       "    </tr>\n",
       "    <tr>\n",
       "      <th>86860</th>\n",
       "      <td>17381856</td>\n",
       "      <td>0.000000e+00</td>\n",
       "    </tr>\n",
       "    <tr>\n",
       "      <th>86861</th>\n",
       "      <td>17382205</td>\n",
       "      <td>4.361952e-09</td>\n",
       "    </tr>\n",
       "    <tr>\n",
       "      <th>86862</th>\n",
       "      <td>17383227</td>\n",
       "      <td>4.361952e-09</td>\n",
       "    </tr>\n",
       "    <tr>\n",
       "      <th>86863</th>\n",
       "      <td>17827644</td>\n",
       "      <td>4.361952e-09</td>\n",
       "    </tr>\n",
       "    <tr>\n",
       "      <th>86864</th>\n",
       "      <td>17829232</td>\n",
       "      <td>8.723905e-09</td>\n",
       "    </tr>\n",
       "  </tbody>\n",
       "</table>\n",
       "<p>86865 rows × 2 columns</p>\n",
       "</div>"
      ],
      "text/plain": [
       "        item_id        weight\n",
       "0         25671  2.617171e-08\n",
       "1         26081  4.361952e-09\n",
       "2         26093  4.361952e-09\n",
       "3         26190  4.361952e-09\n",
       "4         26355  8.723905e-09\n",
       "...         ...           ...\n",
       "86860  17381856  0.000000e+00\n",
       "86861  17382205  4.361952e-09\n",
       "86862  17383227  4.361952e-09\n",
       "86863  17827644  4.361952e-09\n",
       "86864  17829232  8.723905e-09\n",
       "\n",
       "[86865 rows x 2 columns]"
      ]
     },
     "execution_count": 6,
     "metadata": {},
     "output_type": "execute_result"
    }
   ],
   "source": [
    "# создаем массив весов\n",
    "items_weights = data_train.groupby('item_id')['quantity'].sum().reset_index()\n",
    "items_weights.rename(columns={'quantity': 'n_sold'}, inplace=True)\n",
    "items_weights['weight'] = items_weights['n_sold'] / items_weights['n_sold'].sum()\n",
    "items_weights = items_weights[['item_id', 'weight']]\n",
    "items_weights"
   ]
  },
  {
   "cell_type": "code",
   "execution_count": 7,
   "metadata": {
    "colab": {},
    "colab_type": "code",
    "id": "brMuCHolC8Y4"
   },
   "outputs": [],
   "source": [
    "def weighted_random_recommendation(items_weights, n=5):\n",
    "    \"\"\"Случайные рекоммендации c весами\n",
    "    \n",
    "    Input\n",
    "    -----\n",
    "    items_weights: pd.DataFrame\n",
    "        Датафрейм со столбцами item_id, weight. Сумма weight по всем товарам = 1\n",
    "    \"\"\"\n",
    "    \n",
    "    items = np.array(items_weights['item_id'])\n",
    "    items_weights = np.array(items_weights['weight'])\n",
    "    recs = np.random.choice(items, size=n, replace=False, p=items_weights)\n",
    "    \n",
    "    return recs.tolist()"
   ]
  },
  {
   "cell_type": "code",
   "execution_count": 8,
   "metadata": {},
   "outputs": [
    {
     "name": "stdout",
     "output_type": "stream",
     "text": [
      "CPU times: user 4.83 s, sys: 180 ms, total: 5.01 s\n",
      "Wall time: 5.05 s\n"
     ]
    },
    {
     "data": {
      "text/html": [
       "<div>\n",
       "<style scoped>\n",
       "    .dataframe tbody tr th:only-of-type {\n",
       "        vertical-align: middle;\n",
       "    }\n",
       "\n",
       "    .dataframe tbody tr th {\n",
       "        vertical-align: top;\n",
       "    }\n",
       "\n",
       "    .dataframe thead th {\n",
       "        text-align: right;\n",
       "    }\n",
       "</style>\n",
       "<table border=\"1\" class=\"dataframe\">\n",
       "  <thead>\n",
       "    <tr style=\"text-align: right;\">\n",
       "      <th></th>\n",
       "      <th>user_id</th>\n",
       "      <th>actual</th>\n",
       "      <th>random_recommendation</th>\n",
       "      <th>popular_recommendation</th>\n",
       "      <th>itemitem</th>\n",
       "      <th>cosine</th>\n",
       "      <th>tfidf</th>\n",
       "      <th>own_purchases</th>\n",
       "      <th>weighted_random_recommendation</th>\n",
       "    </tr>\n",
       "  </thead>\n",
       "  <tbody>\n",
       "    <tr>\n",
       "      <th>0</th>\n",
       "      <td>1</td>\n",
       "      <td>[821867, 834484, 856942, 865456, 889248, 90795...</td>\n",
       "      <td>[855282, 12754926, 10255555, 10459882, 999360]</td>\n",
       "      <td>[6534178, 6533889, 1029743, 6534166, 1082185]</td>\n",
       "      <td>[999999, 1082185, 981760, 1127831, 995242]</td>\n",
       "      <td>[1082185, 999999, 981760, 1127831, 1098066]</td>\n",
       "      <td>[1082185, 981760, 1127831, 999999, 1098066]</td>\n",
       "      <td>[1082185, 1029743, 995785, 1004906, 1081177]</td>\n",
       "      <td>[6534166, 6534178, 6544236, 6533889, 5747420]</td>\n",
       "    </tr>\n",
       "    <tr>\n",
       "      <th>1</th>\n",
       "      <td>3</td>\n",
       "      <td>[835476, 851057, 872021, 878302, 879948, 90963...</td>\n",
       "      <td>[8352923, 10254454, 126637, 10282033, 1124719]</td>\n",
       "      <td>[6534178, 6533889, 1029743, 6534166, 1082185]</td>\n",
       "      <td>[999999, 1082185, 981760, 1098066, 995242]</td>\n",
       "      <td>[1082185, 1098066, 981760, 999999, 826249]</td>\n",
       "      <td>[1082185, 981760, 1098066, 826249, 999999]</td>\n",
       "      <td>[1082185, 1098066, 6534178, 1127831, 1068719]</td>\n",
       "      <td>[6534178, 6533889, 6534166, 397896, 6544236]</td>\n",
       "    </tr>\n",
       "  </tbody>\n",
       "</table>\n",
       "</div>"
      ],
      "text/plain": [
       "   user_id                                             actual  \\\n",
       "0        1  [821867, 834484, 856942, 865456, 889248, 90795...   \n",
       "1        3  [835476, 851057, 872021, 878302, 879948, 90963...   \n",
       "\n",
       "                            random_recommendation  \\\n",
       "0  [855282, 12754926, 10255555, 10459882, 999360]   \n",
       "1  [8352923, 10254454, 126637, 10282033, 1124719]   \n",
       "\n",
       "                          popular_recommendation  \\\n",
       "0  [6534178, 6533889, 1029743, 6534166, 1082185]   \n",
       "1  [6534178, 6533889, 1029743, 6534166, 1082185]   \n",
       "\n",
       "                                     itemitem  \\\n",
       "0  [999999, 1082185, 981760, 1127831, 995242]   \n",
       "1  [999999, 1082185, 981760, 1098066, 995242]   \n",
       "\n",
       "                                        cosine  \\\n",
       "0  [1082185, 999999, 981760, 1127831, 1098066]   \n",
       "1   [1082185, 1098066, 981760, 999999, 826249]   \n",
       "\n",
       "                                         tfidf  \\\n",
       "0  [1082185, 981760, 1127831, 999999, 1098066]   \n",
       "1   [1082185, 981760, 1098066, 826249, 999999]   \n",
       "\n",
       "                                   own_purchases  \\\n",
       "0   [1082185, 1029743, 995785, 1004906, 1081177]   \n",
       "1  [1082185, 1098066, 6534178, 1127831, 1068719]   \n",
       "\n",
       "                  weighted_random_recommendation  \n",
       "0  [6534166, 6534178, 6544236, 6533889, 5747420]  \n",
       "1   [6534178, 6533889, 6534166, 397896, 6544236]  "
      ]
     },
     "execution_count": 8,
     "metadata": {},
     "output_type": "execute_result"
    }
   ],
   "source": [
    "%%time\n",
    "\n",
    "items = data_train.item_id.unique()\n",
    "\n",
    "result['weighted_random_recommendation'] = result['user_id'] \\\n",
    "                    .apply(lambda x: weighted_random_recommendation(items_weights, n=5))\n",
    "\n",
    "result.head(2)"
   ]
  },
  {
   "cell_type": "markdown",
   "metadata": {
    "colab_type": "text",
    "id": "hyNG6O-wC8Y_"
   },
   "source": [
    "### Задание 2. Расчет метрик\n",
    "Рассчитайте Precision@5 для каждого алгоритма с помощью функции из вебинара 1. Какой алгоритм показывает лучшее качество?"
   ]
  },
  {
   "cell_type": "code",
   "execution_count": 9,
   "metadata": {
    "colab": {},
    "colab_type": "code",
    "id": "_0cu0VeTC8ZD"
   },
   "outputs": [],
   "source": [
    "def precision_at_k(recommended_list, actual_list, k=5):\n",
    "    \"\"\"calculating precision@k\"\"\"\n",
    "\n",
    "    actual_list = np.array(actual_list)\n",
    "    recommended_list = np.array(recommended_list)[:k]\n",
    "    flags = np.isin(actual_list, recommended_list)\n",
    "    if recommended_list.size:\n",
    "        return flags.sum() / recommended_list.size\n",
    "    else:\n",
    "        return 0"
   ]
  },
  {
   "cell_type": "code",
   "execution_count": 10,
   "metadata": {
    "scrolled": true
   },
   "outputs": [
    {
     "name": "stdout",
     "output_type": "stream",
     "text": [
      "0.0005:random_recommendation\n",
      "0.1552:popular_recommendation\n",
      "0.1369:itemitem\n",
      "0.1329:cosine\n",
      "0.1390:tfidf\n",
      "0.2011:own_purchases\n",
      "0.0477:weighted_random_recommendation\n"
     ]
    }
   ],
   "source": [
    "for name_col in result.columns[2:]:\n",
    "    print(f\"{result.apply(lambda row: precision_at_k(row[name_col], row['actual']), 1).mean():.4f}:{name_col}\")"
   ]
  },
  {
   "cell_type": "markdown",
   "metadata": {},
   "source": [
    "__Вывод:__ Анализ метрик показал, что случайные рекомендации с учетом весов на зеачительно более эффективны, однако все еще не очень успешны по сравнению с другими методами рекомендаций. Наиболее оптимальный бейзлайн среди текущих = предсказание на основе уже купленных товаров"
   ]
  },
  {
   "cell_type": "markdown",
   "metadata": {
    "colab_type": "text",
    "id": "igDU0j1cC8ZH"
   },
   "source": [
    "### Задание 3*. Улучшение бейзлайнов и ItemItem\n",
    "\n",
    "- Попробуйте улучшить бейзлайны, считая их на топ-5000 товаров\n",
    "- Попробуйте улучшить разные варианты ItemItemRecommender, выбирая число соседей $K$."
   ]
  },
  {
   "cell_type": "code",
   "execution_count": 11,
   "metadata": {},
   "outputs": [
    {
     "name": "stderr",
     "output_type": "stream",
     "text": [
      "/Library/Frameworks/Python.framework/Versions/3.8/lib/python3.8/site-packages/pandas/core/indexing.py:965: SettingWithCopyWarning: \n",
      "A value is trying to be set on a copy of a slice from a DataFrame.\n",
      "Try using .loc[row_indexer,col_indexer] = value instead\n",
      "\n",
      "See the caveats in the documentation: https://pandas.pydata.org/pandas-docs/stable/user_guide/indexing.html#returning-a-view-versus-a-copy\n",
      "  self.obj[item] = s\n"
     ]
    }
   ],
   "source": [
    "popularity = data_train.groupby('item_id')['quantity'].sum().reset_index()\n",
    "popularity.rename(columns={'quantity': 'n_sold'}, inplace=True)\n",
    "top_1000 = popularity.sort_values('n_sold', ascending=False).head(1000).item_id.tolist()\n",
    "data_train.loc[~data_train['item_id'].isin(top_1000), 'item_id'] = 999999"
   ]
  },
  {
   "cell_type": "markdown",
   "metadata": {},
   "source": [
    "#### Random"
   ]
  },
  {
   "cell_type": "code",
   "execution_count": 12,
   "metadata": {},
   "outputs": [],
   "source": [
    "def random_recommendation(items, n=5):\n",
    "    \"\"\"Случайные рекоммендации\"\"\"\n",
    "\n",
    "    items = np.array(items)\n",
    "    recs = np.random.choice(items, size=n, replace=False)\n",
    "    \n",
    "    return recs.tolist()"
   ]
  },
  {
   "cell_type": "code",
   "execution_count": 13,
   "metadata": {},
   "outputs": [
    {
     "name": "stdout",
     "output_type": "stream",
     "text": [
      "CPU times: user 1.09 s, sys: 12.1 ms, total: 1.1 s\n",
      "Wall time: 1.11 s\n"
     ]
    }
   ],
   "source": [
    "%%time\n",
    "\n",
    "items = data_test.item_id.unique()\n",
    "\n",
    "result['random_recommendation_top_n'] = result['user_id'].apply(lambda x: random_recommendation(items, n=5))\n",
    "\n",
    "# result.head(2)"
   ]
  },
  {
   "cell_type": "markdown",
   "metadata": {},
   "source": [
    "#### Popularity"
   ]
  },
  {
   "cell_type": "code",
   "execution_count": 14,
   "metadata": {},
   "outputs": [],
   "source": [
    "def popularity_recommendation(data, n=5):\n",
    "    \"\"\"Топ-n популярных товаров\"\"\"\n",
    "    \n",
    "    popular = data.groupby('item_id')['sales_value'].sum().reset_index()\n",
    "    popular.sort_values('sales_value', ascending=False, inplace=True)\n",
    "    \n",
    "    recs = popular.head(n).item_id\n",
    "    \n",
    "    return recs.tolist()"
   ]
  },
  {
   "cell_type": "code",
   "execution_count": 15,
   "metadata": {},
   "outputs": [
    {
     "name": "stdout",
     "output_type": "stream",
     "text": [
      "CPU times: user 40.5 ms, sys: 33.8 ms, total: 74.3 ms\n",
      "Wall time: 73.3 ms\n"
     ]
    },
    {
     "data": {
      "text/html": [
       "<div>\n",
       "<style scoped>\n",
       "    .dataframe tbody tr th:only-of-type {\n",
       "        vertical-align: middle;\n",
       "    }\n",
       "\n",
       "    .dataframe tbody tr th {\n",
       "        vertical-align: top;\n",
       "    }\n",
       "\n",
       "    .dataframe thead th {\n",
       "        text-align: right;\n",
       "    }\n",
       "</style>\n",
       "<table border=\"1\" class=\"dataframe\">\n",
       "  <thead>\n",
       "    <tr style=\"text-align: right;\">\n",
       "      <th></th>\n",
       "      <th>user_id</th>\n",
       "      <th>actual</th>\n",
       "      <th>random_recommendation</th>\n",
       "      <th>popular_recommendation</th>\n",
       "      <th>itemitem</th>\n",
       "      <th>cosine</th>\n",
       "      <th>tfidf</th>\n",
       "      <th>own_purchases</th>\n",
       "      <th>weighted_random_recommendation</th>\n",
       "      <th>random_recommendation_top_n</th>\n",
       "      <th>popular_recommendation_top_n</th>\n",
       "    </tr>\n",
       "  </thead>\n",
       "  <tbody>\n",
       "    <tr>\n",
       "      <th>0</th>\n",
       "      <td>1</td>\n",
       "      <td>[821867, 834484, 856942, 865456, 889248, 90795...</td>\n",
       "      <td>[855282, 12754926, 10255555, 10459882, 999360]</td>\n",
       "      <td>[6534178, 6533889, 1029743, 6534166, 1082185]</td>\n",
       "      <td>[999999, 1082185, 981760, 1127831, 995242]</td>\n",
       "      <td>[1082185, 999999, 981760, 1127831, 1098066]</td>\n",
       "      <td>[1082185, 981760, 1127831, 999999, 1098066]</td>\n",
       "      <td>[1082185, 1029743, 995785, 1004906, 1081177]</td>\n",
       "      <td>[6534166, 6534178, 6544236, 6533889, 5747420]</td>\n",
       "      <td>[929178, 9836933, 1118244, 10121834, 962708]</td>\n",
       "      <td>[999999, 6534178, 6533889, 1029743, 6534166]</td>\n",
       "    </tr>\n",
       "    <tr>\n",
       "      <th>1</th>\n",
       "      <td>3</td>\n",
       "      <td>[835476, 851057, 872021, 878302, 879948, 90963...</td>\n",
       "      <td>[8352923, 10254454, 126637, 10282033, 1124719]</td>\n",
       "      <td>[6534178, 6533889, 1029743, 6534166, 1082185]</td>\n",
       "      <td>[999999, 1082185, 981760, 1098066, 995242]</td>\n",
       "      <td>[1082185, 1098066, 981760, 999999, 826249]</td>\n",
       "      <td>[1082185, 981760, 1098066, 826249, 999999]</td>\n",
       "      <td>[1082185, 1098066, 6534178, 1127831, 1068719]</td>\n",
       "      <td>[6534178, 6533889, 6534166, 397896, 6544236]</td>\n",
       "      <td>[1078912, 839419, 1043563, 931842, 1059153]</td>\n",
       "      <td>[999999, 6534178, 6533889, 1029743, 6534166]</td>\n",
       "    </tr>\n",
       "  </tbody>\n",
       "</table>\n",
       "</div>"
      ],
      "text/plain": [
       "   user_id                                             actual  \\\n",
       "0        1  [821867, 834484, 856942, 865456, 889248, 90795...   \n",
       "1        3  [835476, 851057, 872021, 878302, 879948, 90963...   \n",
       "\n",
       "                            random_recommendation  \\\n",
       "0  [855282, 12754926, 10255555, 10459882, 999360]   \n",
       "1  [8352923, 10254454, 126637, 10282033, 1124719]   \n",
       "\n",
       "                          popular_recommendation  \\\n",
       "0  [6534178, 6533889, 1029743, 6534166, 1082185]   \n",
       "1  [6534178, 6533889, 1029743, 6534166, 1082185]   \n",
       "\n",
       "                                     itemitem  \\\n",
       "0  [999999, 1082185, 981760, 1127831, 995242]   \n",
       "1  [999999, 1082185, 981760, 1098066, 995242]   \n",
       "\n",
       "                                        cosine  \\\n",
       "0  [1082185, 999999, 981760, 1127831, 1098066]   \n",
       "1   [1082185, 1098066, 981760, 999999, 826249]   \n",
       "\n",
       "                                         tfidf  \\\n",
       "0  [1082185, 981760, 1127831, 999999, 1098066]   \n",
       "1   [1082185, 981760, 1098066, 826249, 999999]   \n",
       "\n",
       "                                   own_purchases  \\\n",
       "0   [1082185, 1029743, 995785, 1004906, 1081177]   \n",
       "1  [1082185, 1098066, 6534178, 1127831, 1068719]   \n",
       "\n",
       "                  weighted_random_recommendation  \\\n",
       "0  [6534166, 6534178, 6544236, 6533889, 5747420]   \n",
       "1   [6534178, 6533889, 6534166, 397896, 6544236]   \n",
       "\n",
       "                    random_recommendation_top_n  \\\n",
       "0  [929178, 9836933, 1118244, 10121834, 962708]   \n",
       "1   [1078912, 839419, 1043563, 931842, 1059153]   \n",
       "\n",
       "                   popular_recommendation_top_n  \n",
       "0  [999999, 6534178, 6533889, 1029743, 6534166]  \n",
       "1  [999999, 6534178, 6533889, 1029743, 6534166]  "
      ]
     },
     "execution_count": 15,
     "metadata": {},
     "output_type": "execute_result"
    }
   ],
   "source": [
    "%%time\n",
    "\n",
    "# Можно так делать, так как рекомендация не зависит от юзера\n",
    "popular_recs = popularity_recommendation(data_train, n=5)\n",
    "\n",
    "result['popular_recommendation_top_n'] = result['user_id'].apply(lambda x: popular_recs)\n",
    "result.head(2)"
   ]
  },
  {
   "cell_type": "markdown",
   "metadata": {},
   "source": [
    "#### Weigted random recommendation"
   ]
  },
  {
   "cell_type": "code",
   "execution_count": 16,
   "metadata": {},
   "outputs": [
    {
     "name": "stdout",
     "output_type": "stream",
     "text": [
      "CPU times: user 4.79 s, sys: 55.3 ms, total: 4.84 s\n",
      "Wall time: 4.88 s\n"
     ]
    },
    {
     "data": {
      "text/html": [
       "<div>\n",
       "<style scoped>\n",
       "    .dataframe tbody tr th:only-of-type {\n",
       "        vertical-align: middle;\n",
       "    }\n",
       "\n",
       "    .dataframe tbody tr th {\n",
       "        vertical-align: top;\n",
       "    }\n",
       "\n",
       "    .dataframe thead th {\n",
       "        text-align: right;\n",
       "    }\n",
       "</style>\n",
       "<table border=\"1\" class=\"dataframe\">\n",
       "  <thead>\n",
       "    <tr style=\"text-align: right;\">\n",
       "      <th></th>\n",
       "      <th>user_id</th>\n",
       "      <th>actual</th>\n",
       "      <th>random_recommendation</th>\n",
       "      <th>popular_recommendation</th>\n",
       "      <th>itemitem</th>\n",
       "      <th>cosine</th>\n",
       "      <th>tfidf</th>\n",
       "      <th>own_purchases</th>\n",
       "      <th>weighted_random_recommendation</th>\n",
       "      <th>random_recommendation_top_n</th>\n",
       "      <th>popular_recommendation_top_n</th>\n",
       "      <th>weighted_random_recommendation_top_n</th>\n",
       "    </tr>\n",
       "  </thead>\n",
       "  <tbody>\n",
       "    <tr>\n",
       "      <th>0</th>\n",
       "      <td>1</td>\n",
       "      <td>[821867, 834484, 856942, 865456, 889248, 90795...</td>\n",
       "      <td>[855282, 12754926, 10255555, 10459882, 999360]</td>\n",
       "      <td>[6534178, 6533889, 1029743, 6534166, 1082185]</td>\n",
       "      <td>[999999, 1082185, 981760, 1127831, 995242]</td>\n",
       "      <td>[1082185, 999999, 981760, 1127831, 1098066]</td>\n",
       "      <td>[1082185, 981760, 1127831, 999999, 1098066]</td>\n",
       "      <td>[1082185, 1029743, 995785, 1004906, 1081177]</td>\n",
       "      <td>[6534166, 6534178, 6544236, 6533889, 5747420]</td>\n",
       "      <td>[929178, 9836933, 1118244, 10121834, 962708]</td>\n",
       "      <td>[999999, 6534178, 6533889, 1029743, 6534166]</td>\n",
       "      <td>[6534166, 6534178, 6533889, 480014, 1404121]</td>\n",
       "    </tr>\n",
       "    <tr>\n",
       "      <th>1</th>\n",
       "      <td>3</td>\n",
       "      <td>[835476, 851057, 872021, 878302, 879948, 90963...</td>\n",
       "      <td>[8352923, 10254454, 126637, 10282033, 1124719]</td>\n",
       "      <td>[6534178, 6533889, 1029743, 6534166, 1082185]</td>\n",
       "      <td>[999999, 1082185, 981760, 1098066, 995242]</td>\n",
       "      <td>[1082185, 1098066, 981760, 999999, 826249]</td>\n",
       "      <td>[1082185, 981760, 1098066, 826249, 999999]</td>\n",
       "      <td>[1082185, 1098066, 6534178, 1127831, 1068719]</td>\n",
       "      <td>[6534178, 6533889, 6534166, 397896, 6544236]</td>\n",
       "      <td>[1078912, 839419, 1043563, 931842, 1059153]</td>\n",
       "      <td>[999999, 6534178, 6533889, 1029743, 6534166]</td>\n",
       "      <td>[6534178, 6534166, 1404121, 707683, 6533889]</td>\n",
       "    </tr>\n",
       "  </tbody>\n",
       "</table>\n",
       "</div>"
      ],
      "text/plain": [
       "   user_id                                             actual  \\\n",
       "0        1  [821867, 834484, 856942, 865456, 889248, 90795...   \n",
       "1        3  [835476, 851057, 872021, 878302, 879948, 90963...   \n",
       "\n",
       "                            random_recommendation  \\\n",
       "0  [855282, 12754926, 10255555, 10459882, 999360]   \n",
       "1  [8352923, 10254454, 126637, 10282033, 1124719]   \n",
       "\n",
       "                          popular_recommendation  \\\n",
       "0  [6534178, 6533889, 1029743, 6534166, 1082185]   \n",
       "1  [6534178, 6533889, 1029743, 6534166, 1082185]   \n",
       "\n",
       "                                     itemitem  \\\n",
       "0  [999999, 1082185, 981760, 1127831, 995242]   \n",
       "1  [999999, 1082185, 981760, 1098066, 995242]   \n",
       "\n",
       "                                        cosine  \\\n",
       "0  [1082185, 999999, 981760, 1127831, 1098066]   \n",
       "1   [1082185, 1098066, 981760, 999999, 826249]   \n",
       "\n",
       "                                         tfidf  \\\n",
       "0  [1082185, 981760, 1127831, 999999, 1098066]   \n",
       "1   [1082185, 981760, 1098066, 826249, 999999]   \n",
       "\n",
       "                                   own_purchases  \\\n",
       "0   [1082185, 1029743, 995785, 1004906, 1081177]   \n",
       "1  [1082185, 1098066, 6534178, 1127831, 1068719]   \n",
       "\n",
       "                  weighted_random_recommendation  \\\n",
       "0  [6534166, 6534178, 6544236, 6533889, 5747420]   \n",
       "1   [6534178, 6533889, 6534166, 397896, 6544236]   \n",
       "\n",
       "                    random_recommendation_top_n  \\\n",
       "0  [929178, 9836933, 1118244, 10121834, 962708]   \n",
       "1   [1078912, 839419, 1043563, 931842, 1059153]   \n",
       "\n",
       "                   popular_recommendation_top_n  \\\n",
       "0  [999999, 6534178, 6533889, 1029743, 6534166]   \n",
       "1  [999999, 6534178, 6533889, 1029743, 6534166]   \n",
       "\n",
       "           weighted_random_recommendation_top_n  \n",
       "0  [6534166, 6534178, 6533889, 480014, 1404121]  \n",
       "1  [6534178, 6534166, 1404121, 707683, 6533889]  "
      ]
     },
     "execution_count": 16,
     "metadata": {},
     "output_type": "execute_result"
    }
   ],
   "source": [
    "%%time\n",
    "\n",
    "items = data_train.item_id.unique()\n",
    "\n",
    "result['weighted_random_recommendation_top_n'] = result['user_id'] \\\n",
    "                    .apply(lambda x: weighted_random_recommendation(items_weights, n=5))\n",
    "\n",
    "result.head(2)"
   ]
  },
  {
   "cell_type": "markdown",
   "metadata": {},
   "source": [
    "#### Item-item"
   ]
  },
  {
   "cell_type": "code",
   "execution_count": 17,
   "metadata": {},
   "outputs": [],
   "source": [
    "user_item_matrix = pd.pivot_table(data_train, \n",
    "                                  index='user_id', columns='item_id', \n",
    "                                  values='quantity',\n",
    "                                  aggfunc='count', \n",
    "                                  fill_value=0\n",
    "                                 )\n",
    "\n",
    "user_item_matrix[user_item_matrix > 0] = 1 # так как в итоге хотим предсказать \n",
    "user_item_matrix = user_item_matrix.astype(float) # необходимый тип матрицы для implicit\n",
    "\n",
    "\n",
    "# переведем в формат sparse matrix\n",
    "sparse_user_item = csr_matrix(user_item_matrix).tocsr()"
   ]
  },
  {
   "cell_type": "code",
   "execution_count": 18,
   "metadata": {},
   "outputs": [
    {
     "data": {
      "text/plain": [
       "(2499, 1001)"
      ]
     },
     "execution_count": 18,
     "metadata": {},
     "output_type": "execute_result"
    }
   ],
   "source": [
    "user_item_matrix.shape"
   ]
  },
  {
   "cell_type": "code",
   "execution_count": 19,
   "metadata": {},
   "outputs": [
    {
     "data": {
      "text/plain": [
       "11.90494179689858"
      ]
     },
     "execution_count": 19,
     "metadata": {},
     "output_type": "execute_result"
    }
   ],
   "source": [
    "user_item_matrix.sum().sum() / (user_item_matrix.shape[0] * user_item_matrix.shape[1]) * 100"
   ]
  },
  {
   "cell_type": "code",
   "execution_count": 20,
   "metadata": {},
   "outputs": [],
   "source": [
    "userids = user_item_matrix.index.values\n",
    "itemids = user_item_matrix.columns.values\n",
    "\n",
    "matrix_userids = np.arange(len(userids))\n",
    "matrix_itemids = np.arange(len(itemids))\n",
    "\n",
    "id_to_itemid = dict(zip(matrix_itemids, itemids))\n",
    "id_to_userid = dict(zip(matrix_userids, userids))\n",
    "\n",
    "itemid_to_id = dict(zip(itemids, matrix_itemids))\n",
    "userid_to_id = dict(zip(userids, matrix_userids))"
   ]
  },
  {
   "cell_type": "code",
   "execution_count": 21,
   "metadata": {},
   "outputs": [
    {
     "data": {
      "application/vnd.jupyter.widget-view+json": {
       "model_id": "255dc7ed08684a71a67f3be8bf6135e1",
       "version_major": 2,
       "version_minor": 0
      },
      "text/plain": [
       "HBox(children=(FloatProgress(value=0.0, max=1001.0), HTML(value='')))"
      ]
     },
     "metadata": {},
     "output_type": "display_data"
    },
    {
     "name": "stdout",
     "output_type": "stream",
     "text": [
      "\n"
     ]
    }
   ],
   "source": [
    "model = ItemItemRecommender(K=5, num_threads=4) # K - кол-во билжайших соседей\n",
    "\n",
    "\n",
    "model.fit(csr_matrix(user_item_matrix).T.tocsr(),  # На вход item-user matrix\n",
    "          show_progress=True)\n",
    "\n",
    "result['itemitem_top_n'] = result['user_id'].apply(lambda x: [id_to_itemid[rec[0]] for rec in \n",
    "                                    model.recommend(userid=userid_to_id[x], \n",
    "                                    user_items=sparse_user_item,   # на вход user-item matrix\n",
    "                                    N=5, \n",
    "                                    filter_already_liked_items=False, \n",
    "                                    filter_items=None, \n",
    "                                    recalculate_user=True)])"
   ]
  },
  {
   "cell_type": "markdown",
   "metadata": {},
   "source": [
    "#### Cosine "
   ]
  },
  {
   "cell_type": "code",
   "execution_count": 22,
   "metadata": {},
   "outputs": [
    {
     "data": {
      "application/vnd.jupyter.widget-view+json": {
       "model_id": "9a9893bab3904a6b9e4e9a039323029e",
       "version_major": 2,
       "version_minor": 0
      },
      "text/plain": [
       "HBox(children=(FloatProgress(value=0.0, max=1001.0), HTML(value='')))"
      ]
     },
     "metadata": {},
     "output_type": "display_data"
    },
    {
     "name": "stdout",
     "output_type": "stream",
     "text": [
      "\n",
      "CPU times: user 372 ms, sys: 20.6 ms, total: 393 ms\n",
      "Wall time: 244 ms\n"
     ]
    }
   ],
   "source": [
    "%%time\n",
    "\n",
    "model = CosineRecommender(K=5, num_threads=4) # K - кол-во билжайших соседей\n",
    "\n",
    "model.fit(csr_matrix(user_item_matrix).T.tocsr(), \n",
    "          show_progress=True)\n",
    "\n",
    "recs = model.recommend(userid=userid_to_id[1], \n",
    "                        user_items=csr_matrix(user_item_matrix).tocsr(),   # на вход user-item matrix\n",
    "                        N=5, \n",
    "                        filter_already_liked_items=False, \n",
    "                        filter_items=None, \n",
    "                        recalculate_user=False)"
   ]
  },
  {
   "cell_type": "code",
   "execution_count": 23,
   "metadata": {},
   "outputs": [
    {
     "data": {
      "text/plain": [
       "[1082185, 999999, 981760, 1127831, 961554]"
      ]
     },
     "execution_count": 23,
     "metadata": {},
     "output_type": "execute_result"
    }
   ],
   "source": [
    "[id_to_itemid[rec[0]] for rec in recs]"
   ]
  },
  {
   "cell_type": "code",
   "execution_count": 24,
   "metadata": {},
   "outputs": [
    {
     "name": "stdout",
     "output_type": "stream",
     "text": [
      "CPU times: user 66.5 ms, sys: 5 ms, total: 71.5 ms\n",
      "Wall time: 70.8 ms\n"
     ]
    }
   ],
   "source": [
    "%%time\n",
    "\n",
    "result['cosine_top_n'] = result['user_id'].\\\n",
    "    apply(lambda x: [id_to_itemid[rec[0]] for rec in \n",
    "                    model.recommend(userid=userid_to_id[x], \n",
    "                                    user_items=sparse_user_item,   # на вход user-item matrix\n",
    "                                    N=5, \n",
    "                                    filter_already_liked_items=False, \n",
    "                                    filter_items=None, \n",
    "                                    recalculate_user=True)])"
   ]
  },
  {
   "cell_type": "code",
   "execution_count": 25,
   "metadata": {},
   "outputs": [
    {
     "data": {
      "application/vnd.jupyter.widget-view+json": {
       "model_id": "de48acb6097942528723b9ba2efc514f",
       "version_major": 2,
       "version_minor": 0
      },
      "text/plain": [
       "HBox(children=(FloatProgress(value=0.0, max=1001.0), HTML(value='')))"
      ]
     },
     "metadata": {},
     "output_type": "display_data"
    },
    {
     "name": "stdout",
     "output_type": "stream",
     "text": [
      "\n",
      "CPU times: user 390 ms, sys: 16.5 ms, total: 406 ms\n",
      "Wall time: 250 ms\n"
     ]
    }
   ],
   "source": [
    "%%time\n",
    "\n",
    "model = TFIDFRecommender(K=5, num_threads=4) # K - кол-во билжайших соседей\n",
    "\n",
    "model.fit(csr_matrix(user_item_matrix).T.tocsr(), \n",
    "          show_progress=True)\n",
    "\n",
    "recs = model.recommend(userid=userid_to_id[1], \n",
    "                        user_items=csr_matrix(user_item_matrix).tocsr(),   # на вход user-item matrix\n",
    "                        N=5, \n",
    "                        filter_already_liked_items=False, \n",
    "                        filter_items=None, \n",
    "                        recalculate_user=False)"
   ]
  },
  {
   "cell_type": "code",
   "execution_count": 26,
   "metadata": {},
   "outputs": [
    {
     "data": {
      "text/plain": [
       "[1082185, 981760, 999999, 1127831, 961554]"
      ]
     },
     "execution_count": 26,
     "metadata": {},
     "output_type": "execute_result"
    }
   ],
   "source": [
    "[id_to_itemid[rec[0]] for rec in recs]"
   ]
  },
  {
   "cell_type": "code",
   "execution_count": 27,
   "metadata": {},
   "outputs": [
    {
     "name": "stdout",
     "output_type": "stream",
     "text": [
      "CPU times: user 76 ms, sys: 5.07 ms, total: 81.1 ms\n",
      "Wall time: 83.2 ms\n"
     ]
    }
   ],
   "source": [
    "%%time\n",
    "\n",
    "result['tfidf'] = result['user_id'].\\\n",
    "    apply(lambda x: [id_to_itemid[rec[0]] for rec in \n",
    "                    model.recommend(userid=userid_to_id[x], \n",
    "                                    user_items=sparse_user_item,   # на вход user-item matrix\n",
    "                                    N=5, \n",
    "                                    filter_already_liked_items=False, \n",
    "                                    filter_items=None, \n",
    "                                    recalculate_user=False)])"
   ]
  },
  {
   "cell_type": "code",
   "execution_count": 28,
   "metadata": {},
   "outputs": [
    {
     "data": {
      "text/html": [
       "<div>\n",
       "<style scoped>\n",
       "    .dataframe tbody tr th:only-of-type {\n",
       "        vertical-align: middle;\n",
       "    }\n",
       "\n",
       "    .dataframe tbody tr th {\n",
       "        vertical-align: top;\n",
       "    }\n",
       "\n",
       "    .dataframe thead th {\n",
       "        text-align: right;\n",
       "    }\n",
       "</style>\n",
       "<table border=\"1\" class=\"dataframe\">\n",
       "  <thead>\n",
       "    <tr style=\"text-align: right;\">\n",
       "      <th></th>\n",
       "      <th>user_id</th>\n",
       "      <th>actual</th>\n",
       "      <th>random_recommendation</th>\n",
       "      <th>popular_recommendation</th>\n",
       "      <th>itemitem</th>\n",
       "      <th>cosine</th>\n",
       "      <th>tfidf</th>\n",
       "      <th>own_purchases</th>\n",
       "      <th>weighted_random_recommendation</th>\n",
       "      <th>random_recommendation_top_n</th>\n",
       "      <th>popular_recommendation_top_n</th>\n",
       "      <th>weighted_random_recommendation_top_n</th>\n",
       "      <th>itemitem_top_n</th>\n",
       "      <th>cosine_top_n</th>\n",
       "    </tr>\n",
       "  </thead>\n",
       "  <tbody>\n",
       "    <tr>\n",
       "      <th>0</th>\n",
       "      <td>1</td>\n",
       "      <td>[821867, 834484, 856942, 865456, 889248, 90795...</td>\n",
       "      <td>[855282, 12754926, 10255555, 10459882, 999360]</td>\n",
       "      <td>[6534178, 6533889, 1029743, 6534166, 1082185]</td>\n",
       "      <td>[999999, 1082185, 981760, 1127831, 995242]</td>\n",
       "      <td>[1082185, 999999, 981760, 1127831, 1098066]</td>\n",
       "      <td>[1082185, 981760, 999999, 1127831, 961554]</td>\n",
       "      <td>[1082185, 1029743, 995785, 1004906, 1081177]</td>\n",
       "      <td>[6534166, 6534178, 6544236, 6533889, 5747420]</td>\n",
       "      <td>[929178, 9836933, 1118244, 10121834, 962708]</td>\n",
       "      <td>[999999, 6534178, 6533889, 1029743, 6534166]</td>\n",
       "      <td>[6534166, 6534178, 6533889, 480014, 1404121]</td>\n",
       "      <td>[999999, 1082185, 981760, 995242, 1127831]</td>\n",
       "      <td>[1082185, 999999, 981760, 1127831, 961554]</td>\n",
       "    </tr>\n",
       "    <tr>\n",
       "      <th>1</th>\n",
       "      <td>3</td>\n",
       "      <td>[835476, 851057, 872021, 878302, 879948, 90963...</td>\n",
       "      <td>[8352923, 10254454, 126637, 10282033, 1124719]</td>\n",
       "      <td>[6534178, 6533889, 1029743, 6534166, 1082185]</td>\n",
       "      <td>[999999, 1082185, 981760, 1098066, 995242]</td>\n",
       "      <td>[1082185, 1098066, 981760, 999999, 826249]</td>\n",
       "      <td>[1082185, 981760, 1098066, 826249, 999999]</td>\n",
       "      <td>[1082185, 1098066, 6534178, 1127831, 1068719]</td>\n",
       "      <td>[6534178, 6533889, 6534166, 397896, 6544236]</td>\n",
       "      <td>[1078912, 839419, 1043563, 931842, 1059153]</td>\n",
       "      <td>[999999, 6534178, 6533889, 1029743, 6534166]</td>\n",
       "      <td>[6534178, 6534166, 1404121, 707683, 6533889]</td>\n",
       "      <td>[999999, 1082185, 981760, 1098066, 995242]</td>\n",
       "      <td>[1082185, 999999, 981760, 1098066, 826249]</td>\n",
       "    </tr>\n",
       "    <tr>\n",
       "      <th>2</th>\n",
       "      <td>6</td>\n",
       "      <td>[920308, 926804, 946489, 1006718, 1017061, 107...</td>\n",
       "      <td>[1071342, 9932329, 985893, 926549, 7186250]</td>\n",
       "      <td>[6534178, 6533889, 1029743, 6534166, 1082185]</td>\n",
       "      <td>[999999, 1082185, 981760, 1127831, 995242]</td>\n",
       "      <td>[1082185, 999999, 981760, 1127831, 1098066]</td>\n",
       "      <td>[1082185, 981760, 999999, 1127831, 878996]</td>\n",
       "      <td>[1082185, 1029743, 6534178, 1127831, 995785]</td>\n",
       "      <td>[6534178, 6533889, 6410462, 480014, 5668996]</td>\n",
       "      <td>[14025127, 13006983, 13213453, 1022254, 15716479]</td>\n",
       "      <td>[999999, 6534178, 6533889, 1029743, 6534166]</td>\n",
       "      <td>[6534178, 6533889, 6544236, 909894, 6534166]</td>\n",
       "      <td>[999999, 1082185, 981760, 1127831, 995242]</td>\n",
       "      <td>[1082185, 999999, 981760, 1127831, 1098066]</td>\n",
       "    </tr>\n",
       "    <tr>\n",
       "      <th>3</th>\n",
       "      <td>7</td>\n",
       "      <td>[840386, 889774, 898068, 909714, 929067, 95347...</td>\n",
       "      <td>[8181185, 900491, 921622, 1317910, 944599]</td>\n",
       "      <td>[6534178, 6533889, 1029743, 6534166, 1082185]</td>\n",
       "      <td>[999999, 1082185, 981760, 1127831, 995242]</td>\n",
       "      <td>[1082185, 981760, 999999, 1127831, 961554]</td>\n",
       "      <td>[1082185, 981760, 999999, 1127831, 961554]</td>\n",
       "      <td>[1082185, 1029743, 1127831, 995785, 1044078]</td>\n",
       "      <td>[6534178, 6533889, 6534166, 480014, 5703832]</td>\n",
       "      <td>[871264, 9297571, 1069094, 1137010, 1024384]</td>\n",
       "      <td>[999999, 6534178, 6533889, 1029743, 6534166]</td>\n",
       "      <td>[6534178, 6534166, 6533889, 1426702, 1007195]</td>\n",
       "      <td>[999999, 1082185, 981760, 1127831, 995242]</td>\n",
       "      <td>[1082185, 999999, 981760, 1127831, 1098066]</td>\n",
       "    </tr>\n",
       "    <tr>\n",
       "      <th>4</th>\n",
       "      <td>8</td>\n",
       "      <td>[835098, 872137, 910439, 924610, 992977, 10412...</td>\n",
       "      <td>[1034655, 928892, 950441, 925445, 991951]</td>\n",
       "      <td>[6534178, 6533889, 1029743, 6534166, 1082185]</td>\n",
       "      <td>[999999, 1082185, 981760, 1127831, 1098066]</td>\n",
       "      <td>[1082185, 981760, 999999, 1098066, 826249]</td>\n",
       "      <td>[1082185, 981760, 999999, 1098066, 826249]</td>\n",
       "      <td>[1082185, 1029743, 1098066, 6534178, 1127831]</td>\n",
       "      <td>[6534178, 6533889, 1388206, 6534166, 5703832]</td>\n",
       "      <td>[845269, 1025628, 1021486, 835578, 990797]</td>\n",
       "      <td>[999999, 6534178, 6533889, 1029743, 6534166]</td>\n",
       "      <td>[6534178, 940139, 1426702, 6544236, 6533889]</td>\n",
       "      <td>[999999, 1082185, 981760, 1098066, 995242]</td>\n",
       "      <td>[1082185, 981760, 999999, 1098066, 826249]</td>\n",
       "    </tr>\n",
       "  </tbody>\n",
       "</table>\n",
       "</div>"
      ],
      "text/plain": [
       "   user_id                                             actual  \\\n",
       "0        1  [821867, 834484, 856942, 865456, 889248, 90795...   \n",
       "1        3  [835476, 851057, 872021, 878302, 879948, 90963...   \n",
       "2        6  [920308, 926804, 946489, 1006718, 1017061, 107...   \n",
       "3        7  [840386, 889774, 898068, 909714, 929067, 95347...   \n",
       "4        8  [835098, 872137, 910439, 924610, 992977, 10412...   \n",
       "\n",
       "                            random_recommendation  \\\n",
       "0  [855282, 12754926, 10255555, 10459882, 999360]   \n",
       "1  [8352923, 10254454, 126637, 10282033, 1124719]   \n",
       "2     [1071342, 9932329, 985893, 926549, 7186250]   \n",
       "3      [8181185, 900491, 921622, 1317910, 944599]   \n",
       "4       [1034655, 928892, 950441, 925445, 991951]   \n",
       "\n",
       "                          popular_recommendation  \\\n",
       "0  [6534178, 6533889, 1029743, 6534166, 1082185]   \n",
       "1  [6534178, 6533889, 1029743, 6534166, 1082185]   \n",
       "2  [6534178, 6533889, 1029743, 6534166, 1082185]   \n",
       "3  [6534178, 6533889, 1029743, 6534166, 1082185]   \n",
       "4  [6534178, 6533889, 1029743, 6534166, 1082185]   \n",
       "\n",
       "                                      itemitem  \\\n",
       "0   [999999, 1082185, 981760, 1127831, 995242]   \n",
       "1   [999999, 1082185, 981760, 1098066, 995242]   \n",
       "2   [999999, 1082185, 981760, 1127831, 995242]   \n",
       "3   [999999, 1082185, 981760, 1127831, 995242]   \n",
       "4  [999999, 1082185, 981760, 1127831, 1098066]   \n",
       "\n",
       "                                        cosine  \\\n",
       "0  [1082185, 999999, 981760, 1127831, 1098066]   \n",
       "1   [1082185, 1098066, 981760, 999999, 826249]   \n",
       "2  [1082185, 999999, 981760, 1127831, 1098066]   \n",
       "3   [1082185, 981760, 999999, 1127831, 961554]   \n",
       "4   [1082185, 981760, 999999, 1098066, 826249]   \n",
       "\n",
       "                                        tfidf  \\\n",
       "0  [1082185, 981760, 999999, 1127831, 961554]   \n",
       "1  [1082185, 981760, 1098066, 826249, 999999]   \n",
       "2  [1082185, 981760, 999999, 1127831, 878996]   \n",
       "3  [1082185, 981760, 999999, 1127831, 961554]   \n",
       "4  [1082185, 981760, 999999, 1098066, 826249]   \n",
       "\n",
       "                                   own_purchases  \\\n",
       "0   [1082185, 1029743, 995785, 1004906, 1081177]   \n",
       "1  [1082185, 1098066, 6534178, 1127831, 1068719]   \n",
       "2   [1082185, 1029743, 6534178, 1127831, 995785]   \n",
       "3   [1082185, 1029743, 1127831, 995785, 1044078]   \n",
       "4  [1082185, 1029743, 1098066, 6534178, 1127831]   \n",
       "\n",
       "                  weighted_random_recommendation  \\\n",
       "0  [6534166, 6534178, 6544236, 6533889, 5747420]   \n",
       "1   [6534178, 6533889, 6534166, 397896, 6544236]   \n",
       "2   [6534178, 6533889, 6410462, 480014, 5668996]   \n",
       "3   [6534178, 6533889, 6534166, 480014, 5703832]   \n",
       "4  [6534178, 6533889, 1388206, 6534166, 5703832]   \n",
       "\n",
       "                         random_recommendation_top_n  \\\n",
       "0       [929178, 9836933, 1118244, 10121834, 962708]   \n",
       "1        [1078912, 839419, 1043563, 931842, 1059153]   \n",
       "2  [14025127, 13006983, 13213453, 1022254, 15716479]   \n",
       "3       [871264, 9297571, 1069094, 1137010, 1024384]   \n",
       "4         [845269, 1025628, 1021486, 835578, 990797]   \n",
       "\n",
       "                   popular_recommendation_top_n  \\\n",
       "0  [999999, 6534178, 6533889, 1029743, 6534166]   \n",
       "1  [999999, 6534178, 6533889, 1029743, 6534166]   \n",
       "2  [999999, 6534178, 6533889, 1029743, 6534166]   \n",
       "3  [999999, 6534178, 6533889, 1029743, 6534166]   \n",
       "4  [999999, 6534178, 6533889, 1029743, 6534166]   \n",
       "\n",
       "            weighted_random_recommendation_top_n  \\\n",
       "0   [6534166, 6534178, 6533889, 480014, 1404121]   \n",
       "1   [6534178, 6534166, 1404121, 707683, 6533889]   \n",
       "2   [6534178, 6533889, 6544236, 909894, 6534166]   \n",
       "3  [6534178, 6534166, 6533889, 1426702, 1007195]   \n",
       "4   [6534178, 940139, 1426702, 6544236, 6533889]   \n",
       "\n",
       "                               itemitem_top_n  \\\n",
       "0  [999999, 1082185, 981760, 995242, 1127831]   \n",
       "1  [999999, 1082185, 981760, 1098066, 995242]   \n",
       "2  [999999, 1082185, 981760, 1127831, 995242]   \n",
       "3  [999999, 1082185, 981760, 1127831, 995242]   \n",
       "4  [999999, 1082185, 981760, 1098066, 995242]   \n",
       "\n",
       "                                  cosine_top_n  \n",
       "0   [1082185, 999999, 981760, 1127831, 961554]  \n",
       "1   [1082185, 999999, 981760, 1098066, 826249]  \n",
       "2  [1082185, 999999, 981760, 1127831, 1098066]  \n",
       "3  [1082185, 999999, 981760, 1127831, 1098066]  \n",
       "4   [1082185, 981760, 999999, 1098066, 826249]  "
      ]
     },
     "execution_count": 28,
     "metadata": {},
     "output_type": "execute_result"
    }
   ],
   "source": [
    "result.head(5)"
   ]
  },
  {
   "cell_type": "code",
   "execution_count": 29,
   "metadata": {},
   "outputs": [
    {
     "data": {
      "application/vnd.jupyter.widget-view+json": {
       "model_id": "190f7ded1b32449cb66e6ac31cf8ddd8",
       "version_major": 2,
       "version_minor": 0
      },
      "text/plain": [
       "HBox(children=(FloatProgress(value=0.0, max=1001.0), HTML(value='')))"
      ]
     },
     "metadata": {},
     "output_type": "display_data"
    },
    {
     "name": "stdout",
     "output_type": "stream",
     "text": [
      "\n",
      "CPU times: user 387 ms, sys: 18.7 ms, total: 405 ms\n",
      "Wall time: 270 ms\n"
     ]
    }
   ],
   "source": [
    "%%time\n",
    "\n",
    "model = ItemItemRecommender(K=1, num_threads=4) # K - кол-во билжайших соседей\n",
    "\n",
    "\n",
    "model.fit(csr_matrix(user_item_matrix).T.tocsr(), \n",
    "          show_progress=True)\n",
    "\n",
    "recs = model.recommend(userid=userid_to_id[1], \n",
    "                        user_items=csr_matrix(user_item_matrix).tocsr(),   # на вход user-item matrix\n",
    "                        N=5, \n",
    "                        filter_already_liked_items=False, \n",
    "                        filter_items=None, \n",
    "                        recalculate_user=False)"
   ]
  },
  {
   "cell_type": "code",
   "execution_count": 30,
   "metadata": {},
   "outputs": [
    {
     "name": "stdout",
     "output_type": "stream",
     "text": [
      "Item ID 999999 --> Row ID 524\n",
      "Item ID 1082185 --> Row ID 720\n",
      "Item ID 1029743 --> Row ID 590\n",
      "Item ID 1004906 --> Row ID 534\n",
      "Item ID 1081177 --> Row ID 718\n"
     ]
    }
   ],
   "source": [
    "# print map item_id to row_id\n",
    "itemid_to_id\n",
    "print(*[f\"Item ID {id_to_itemid[rec[0]]} --> Row ID {rec[0]}\" for rec in recs],sep='\\n')"
   ]
  },
  {
   "cell_type": "code",
   "execution_count": 31,
   "metadata": {
    "scrolled": true
   },
   "outputs": [
    {
     "name": "stdout",
     "output_type": "stream",
     "text": [
      "CPU times: user 63.7 ms, sys: 3.69 ms, total: 67.4 ms\n",
      "Wall time: 65.1 ms\n"
     ]
    }
   ],
   "source": [
    "%%time\n",
    "\n",
    "result['own_purchases'] = result['user_id'].\\\n",
    "    apply(lambda x: [id_to_itemid[rec[0]] for rec in \n",
    "                    model.recommend(userid=userid_to_id[x], \n",
    "                                    user_items=sparse_user_item,   # на вход user-item matrix\n",
    "                                    N=5, \n",
    "                                    filter_already_liked_items=False, \n",
    "                                    filter_items=[itemid_to_id[999999]], \n",
    "                                    recalculate_user=False)])"
   ]
  },
  {
   "cell_type": "code",
   "execution_count": 32,
   "metadata": {},
   "outputs": [
    {
     "data": {
      "application/vnd.jupyter.widget-view+json": {
       "model_id": "555e36044da04c169827d6c6c71f001d",
       "version_major": 2,
       "version_minor": 0
      },
      "text/plain": [
       "HBox(children=(FloatProgress(value=0.0, max=1001.0), HTML(value='')))"
      ]
     },
     "metadata": {},
     "output_type": "display_data"
    },
    {
     "name": "stdout",
     "output_type": "stream",
     "text": [
      "\n",
      "CPU times: user 417 ms, sys: 24 ms, total: 441 ms\n",
      "Wall time: 304 ms\n"
     ]
    }
   ],
   "source": [
    "%%time\n",
    "\n",
    "model = ItemItemRecommender(K=2, num_threads=4) # K - кол-во билжайших соседей\n",
    "\n",
    "\n",
    "model.fit(csr_matrix(user_item_matrix).T.tocsr(), \n",
    "          show_progress=True)\n",
    "\n",
    "result['own_purchases_top_n'] = result['user_id'].\\\n",
    "    apply(lambda x: [id_to_itemid[rec[0]] for rec in \n",
    "                    model.recommend(userid=userid_to_id[x], \n",
    "                                    user_items=sparse_user_item,   # на вход user-item matrix\n",
    "                                    N=5, \n",
    "                                    filter_already_liked_items=False, \n",
    "                                    filter_items=[itemid_to_id[999999]], \n",
    "                                    recalculate_user=False)])"
   ]
  },
  {
   "cell_type": "code",
   "execution_count": 33,
   "metadata": {},
   "outputs": [],
   "source": [
    "results_metrics = {'method':[], \n",
    "                  'precision@k': []}\n",
    "\n",
    "for name_col in result.columns[2:]:\n",
    "#     print(f\"{result.apply(lambda row: precision_at_k(row[name_col], row['actual']), 1).mean():.4f}:{name_col}\")\n",
    "    results_metrics['precision@k'].append(result \\\n",
    "                                    .apply(lambda row: precision_at_k(row[name_col], row['actual']), 1).mean())\n",
    "    results_metrics['method'].append(name_col)"
   ]
  },
  {
   "cell_type": "code",
   "execution_count": 34,
   "metadata": {},
   "outputs": [
    {
     "data": {
      "text/html": [
       "<div>\n",
       "<style scoped>\n",
       "    .dataframe tbody tr th:only-of-type {\n",
       "        vertical-align: middle;\n",
       "    }\n",
       "\n",
       "    .dataframe tbody tr th {\n",
       "        vertical-align: top;\n",
       "    }\n",
       "\n",
       "    .dataframe thead th {\n",
       "        text-align: right;\n",
       "    }\n",
       "</style>\n",
       "<table border=\"1\" class=\"dataframe\">\n",
       "  <thead>\n",
       "    <tr style=\"text-align: right;\">\n",
       "      <th></th>\n",
       "      <th>method</th>\n",
       "      <th>precision@k</th>\n",
       "    </tr>\n",
       "  </thead>\n",
       "  <tbody>\n",
       "    <tr>\n",
       "      <th>12</th>\n",
       "      <td>own_purchases_top_n</td>\n",
       "      <td>0.219434</td>\n",
       "    </tr>\n",
       "    <tr>\n",
       "      <th>5</th>\n",
       "      <td>own_purchases</td>\n",
       "      <td>0.196074</td>\n",
       "    </tr>\n",
       "    <tr>\n",
       "      <th>1</th>\n",
       "      <td>popular_recommendation</td>\n",
       "      <td>0.155240</td>\n",
       "    </tr>\n",
       "    <tr>\n",
       "      <th>10</th>\n",
       "      <td>itemitem_top_n</td>\n",
       "      <td>0.140353</td>\n",
       "    </tr>\n",
       "    <tr>\n",
       "      <th>4</th>\n",
       "      <td>tfidf</td>\n",
       "      <td>0.139765</td>\n",
       "    </tr>\n",
       "    <tr>\n",
       "      <th>2</th>\n",
       "      <td>itemitem</td>\n",
       "      <td>0.136925</td>\n",
       "    </tr>\n",
       "    <tr>\n",
       "      <th>11</th>\n",
       "      <td>cosine_top_n</td>\n",
       "      <td>0.133692</td>\n",
       "    </tr>\n",
       "    <tr>\n",
       "      <th>3</th>\n",
       "      <td>cosine</td>\n",
       "      <td>0.132909</td>\n",
       "    </tr>\n",
       "    <tr>\n",
       "      <th>8</th>\n",
       "      <td>popular_recommendation_top_n</td>\n",
       "      <td>0.085602</td>\n",
       "    </tr>\n",
       "    <tr>\n",
       "      <th>6</th>\n",
       "      <td>weighted_random_recommendation</td>\n",
       "      <td>0.047698</td>\n",
       "    </tr>\n",
       "    <tr>\n",
       "      <th>9</th>\n",
       "      <td>weighted_random_recommendation_top_n</td>\n",
       "      <td>0.047698</td>\n",
       "    </tr>\n",
       "    <tr>\n",
       "      <th>7</th>\n",
       "      <td>random_recommendation_top_n</td>\n",
       "      <td>0.002155</td>\n",
       "    </tr>\n",
       "    <tr>\n",
       "      <th>0</th>\n",
       "      <td>random_recommendation</td>\n",
       "      <td>0.000490</td>\n",
       "    </tr>\n",
       "  </tbody>\n",
       "</table>\n",
       "</div>"
      ],
      "text/plain": [
       "                                  method  precision@k\n",
       "12                   own_purchases_top_n     0.219434\n",
       "5                          own_purchases     0.196074\n",
       "1                 popular_recommendation     0.155240\n",
       "10                        itemitem_top_n     0.140353\n",
       "4                                  tfidf     0.139765\n",
       "2                               itemitem     0.136925\n",
       "11                          cosine_top_n     0.133692\n",
       "3                                 cosine     0.132909\n",
       "8           popular_recommendation_top_n     0.085602\n",
       "6         weighted_random_recommendation     0.047698\n",
       "9   weighted_random_recommendation_top_n     0.047698\n",
       "7            random_recommendation_top_n     0.002155\n",
       "0                  random_recommendation     0.000490"
      ]
     },
     "execution_count": 34,
     "metadata": {},
     "output_type": "execute_result"
    }
   ],
   "source": [
    "df = pd.DataFrame(results_metrics)\n",
    "df = df.sort_values('precision@k', ascending=False)\n",
    "df"
   ]
  },
  {
   "cell_type": "markdown",
   "metadata": {},
   "source": [
    "Лучший бейзлайн по precision@k получили на выборке top-1000 товаров, при этом на основе купленных товаров. Сужение выборки товаров также дало улучшение item-item."
   ]
  }
 ],
 "metadata": {
  "colab": {
   "name": "hw_webinar_2.ipynb",
   "provenance": []
  },
  "kernelspec": {
   "display_name": "Python 3",
   "language": "python",
   "name": "python3"
  },
  "language_info": {
   "codemirror_mode": {
    "name": "ipython",
    "version": 3
   },
   "file_extension": ".py",
   "mimetype": "text/x-python",
   "name": "python",
   "nbconvert_exporter": "python",
   "pygments_lexer": "ipython3",
   "version": "3.8.1"
  }
 },
 "nbformat": 4,
 "nbformat_minor": 1
}
